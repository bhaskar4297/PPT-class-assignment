{
 "cells": [
  {
   "cell_type": "markdown",
   "id": "f058a54b",
   "metadata": {},
   "source": [
    "# Assignment Questions 13"
   ]
  },
  {
   "cell_type": "markdown",
   "id": "effd188f",
   "metadata": {},
   "source": [
    "https://pwskills.notion.site/Assignment-Questions-13-bd6c9b729abd4d0fb71686beab10f554"
   ]
  },
  {
   "cell_type": "markdown",
   "id": "2eb116ad",
   "metadata": {},
   "source": [
    "Question 1"
   ]
  },
  {
   "cell_type": "code",
   "execution_count": 1,
   "id": "0e3fd868",
   "metadata": {},
   "outputs": [
    {
     "name": "stdout",
     "output_type": "stream",
     "text": [
      "5 2 3 8 1 7 4 5 "
     ]
    }
   ],
   "source": [
    "class ListNode:\n",
    "    def __init__(self, val=0, next=None):\n",
    "        self.val = val\n",
    "        self.next = next\n",
    "\n",
    "\n",
    "def createNewList(list1, list2):\n",
    "    dummy = ListNode()  # Dummy node to simplify the insertion\n",
    "    curr = dummy\n",
    "\n",
    "    while list1 is not None and list2 is not None:\n",
    "        if list1.val >= list2.val:\n",
    "            curr.next = ListNode(list1.val)\n",
    "            list1 = list1.next\n",
    "        else:\n",
    "            curr.next = ListNode(list2.val)\n",
    "            list2 = list2.next\n",
    "\n",
    "        curr = curr.next\n",
    "\n",
    "    # If any of the lists still has remaining nodes, append them to the new list\n",
    "    if list1 is not None:\n",
    "        curr.next = list1\n",
    "    if list2 is not None:\n",
    "        curr.next = list2\n",
    "\n",
    "    return dummy.next\n",
    "\n",
    "\n",
    "# Example usage\n",
    "# list1: 5 -> 2 -> 3 -> 8\n",
    "# list2: 1 -> 7 -> 4 -> 5\n",
    "# New list: 5 -> 7 -> 4 -> 8\n",
    "\n",
    "list1 = ListNode(5)\n",
    "list1.next = ListNode(2)\n",
    "list1.next.next = ListNode(3)\n",
    "list1.next.next.next = ListNode(8)\n",
    "\n",
    "list2 = ListNode(1)\n",
    "list2.next = ListNode(7)\n",
    "list2.next.next = ListNode(4)\n",
    "list2.next.next.next = ListNode(5)\n",
    "\n",
    "newList = createNewList(list1, list2)\n",
    "\n",
    "# Print the new list\n",
    "curr = newList\n",
    "while curr is not None:\n",
    "    print(curr.val, end=\" \")\n",
    "    curr = curr.next\n",
    "\n",
    "# Output: 5 7 4 8\n"
   ]
  },
  {
   "cell_type": "markdown",
   "id": "efb0f25f",
   "metadata": {},
   "source": [
    "Question 2"
   ]
  },
  {
   "cell_type": "code",
   "execution_count": 1,
   "id": "3125c51a",
   "metadata": {},
   "outputs": [
    {
     "name": "stdout",
     "output_type": "stream",
     "text": [
      "11->21->43->60->None\n"
     ]
    }
   ],
   "source": [
    "class ListNode:\n",
    "    def __init__(self, val=0, next=None):\n",
    "        self.val = val\n",
    "        self.next = next\n",
    "\n",
    "def removeDuplicates(head):\n",
    "    if not head or not head.next:\n",
    "        return head\n",
    "\n",
    "    current = head\n",
    "\n",
    "    while current.next:\n",
    "        if current.val == current.next.val:\n",
    "            current.next = current.next.next\n",
    "        else:\n",
    "            current = current.next\n",
    "\n",
    "    return head\n",
    "\n",
    "# Sample input: 11->11->11->21->43->43->60\n",
    "# Creating the linked list\n",
    "node6 = ListNode(60)\n",
    "node5 = ListNode(43, node6)\n",
    "node4 = ListNode(43, node5)\n",
    "node3 = ListNode(21, node4)\n",
    "node2 = ListNode(11, node3)\n",
    "node1 = ListNode(11, node2)\n",
    "head = ListNode(11, node1)\n",
    "\n",
    "# Removing duplicates from the linked list\n",
    "head = removeDuplicates(head)\n",
    "\n",
    "# Printing the modified linked list\n",
    "current = head\n",
    "while current:\n",
    "    print(current.val, end=\"->\")\n",
    "    current = current.next\n",
    "print(\"None\")\n"
   ]
  },
  {
   "cell_type": "markdown",
   "id": "9ae867c1",
   "metadata": {},
   "source": [
    "Question 3"
   ]
  },
  {
   "cell_type": "code",
   "execution_count": 2,
   "id": "843f7d62",
   "metadata": {},
   "outputs": [
    {
     "name": "stdout",
     "output_type": "stream",
     "text": [
      "4 2 2 1 8 7 6 5 "
     ]
    }
   ],
   "source": [
    "class ListNode:\n",
    "    def __init__(self, val=0, next=None):\n",
    "        self.val = val\n",
    "        self.next = next\n",
    "\n",
    "def reverseKGroup(head, k):\n",
    "    if not head or k == 1:\n",
    "        return head\n",
    "\n",
    "    dummy = ListNode(0)\n",
    "    dummy.next = head\n",
    "    prev = dummy\n",
    "\n",
    "    count = 0\n",
    "    while head:\n",
    "        count += 1\n",
    "        if count % k == 0:\n",
    "            prev = reverse(prev, head.next)\n",
    "            head = prev.next\n",
    "        else:\n",
    "            head = head.next\n",
    "\n",
    "    return dummy.next\n",
    "\n",
    "def reverse(prev, next_node):\n",
    "    last = prev.next\n",
    "    curr = last.next\n",
    "\n",
    "    while curr != next_node:\n",
    "        last.next = curr.next\n",
    "        curr.next = prev.next\n",
    "        prev.next = curr\n",
    "        curr = last.next\n",
    "\n",
    "    return last\n",
    "\n",
    "# Example 1: Reverse every 4 nodes\n",
    "# Creating the linked list: 1->2->2->4->5->6->7->8\n",
    "node8 = ListNode(8)\n",
    "node7 = ListNode(7, node8)\n",
    "node6 = ListNode(6, node7)\n",
    "node5 = ListNode(5, node6)\n",
    "node4 = ListNode(4, node5)\n",
    "node3 = ListNode(2, node4)\n",
    "node2 = ListNode(2, node3)\n",
    "head = ListNode(1, node2)\n",
    "\n",
    "# Reversing every 4 nodes in the linked list\n",
    "head = reverseKGroup(head, 4)\n",
    "\n",
    "# Printing the modified linked list\n",
    "current = head\n",
    "while current:\n",
    "    print(current.val, end=\" \")\n",
    "    current = current.next\n"
   ]
  },
  {
   "cell_type": "markdown",
   "id": "be7e32e0",
   "metadata": {},
   "source": [
    "Question 4"
   ]
  },
  {
   "cell_type": "code",
   "execution_count": 4,
   "id": "d7252294",
   "metadata": {},
   "outputs": [
    {
     "name": "stdout",
     "output_type": "stream",
     "text": [
      "1 "
     ]
    }
   ],
   "source": [
    "class ListNode:\n",
    "    def __init__(self, val=0, next=None):\n",
    "        self.val = val\n",
    "        self.next = next\n",
    "\n",
    "def reverseAlternateKNodes(head, k):\n",
    "    if not head or k <= 1:\n",
    "        return head\n",
    "\n",
    "    current = head\n",
    "    prev = None\n",
    "    count = 0\n",
    "    is_reverse = True\n",
    "\n",
    "    while current:\n",
    "        if is_reverse and count < k:\n",
    "            next_node = current.next\n",
    "            current.next = prev\n",
    "            prev = current\n",
    "            current = next_node\n",
    "            count += 1\n",
    "        else:\n",
    "            prev.next = current\n",
    "            for _ in range(k):\n",
    "                if not current:\n",
    "                    break\n",
    "                prev = current\n",
    "                current = current.next\n",
    "            count = 0\n",
    "            is_reverse = not is_reverse\n",
    "\n",
    "    return head\n",
    "\n",
    "# Example:\n",
    "# Creating the linked list: 1->2->3->4->5->6->7->8->9->NULL\n",
    "node9 = ListNode(9)\n",
    "node8 = ListNode(8, node9)\n",
    "node7 = ListNode(7, node8)\n",
    "node6 = ListNode(6, node7)\n",
    "node5 = ListNode(5, node6)\n",
    "node4 = ListNode(4, node5)\n",
    "node3 = ListNode(3, node4)\n",
    "node2 = ListNode(2, node3)\n",
    "head = ListNode(1, node2)\n",
    "\n",
    "# Reversing every alternate 3 nodes in the linked list\n",
    "head = reverseAlternateKNodes(head, 3)\n",
    "\n",
    "# Printing the modified linked list\n",
    "current = head\n",
    "while current:\n",
    "    print(current.val, end=\" \")\n",
    "    current = current.next\n"
   ]
  },
  {
   "cell_type": "code",
   "execution_count": 7,
   "id": "bae65dba",
   "metadata": {},
   "outputs": [
    {
     "name": "stdout",
     "output_type": "stream",
     "text": [
      "3 2 1 9 8 7 "
     ]
    }
   ],
   "source": [
    "class ListNode:\n",
    "    def __init__(self, val=0, next=None):\n",
    "        self.val = val\n",
    "        self.next = next\n",
    "\n",
    "def reverseAlternateKNodes(head, k):\n",
    "    if not head or k <= 1:\n",
    "        return head\n",
    "\n",
    "    current = head\n",
    "    prev = None\n",
    "    is_reverse = True\n",
    "    prev_group_tail = None\n",
    "    new_head = None\n",
    "\n",
    "    while current:\n",
    "        group_start = current\n",
    "        group_prev = prev\n",
    "\n",
    "        count = 0\n",
    "        while current and count < k:\n",
    "            next_node = current.next\n",
    "            current.next = prev\n",
    "            prev = current\n",
    "            current = next_node\n",
    "            count += 1\n",
    "\n",
    "        if is_reverse:\n",
    "            if prev_group_tail:\n",
    "                prev_group_tail.next = prev\n",
    "            else:\n",
    "                new_head = prev\n",
    "            prev_group_tail = group_start\n",
    "\n",
    "        is_reverse = not is_reverse\n",
    "\n",
    "    prev_group_tail.next = current\n",
    "\n",
    "    return new_head\n",
    "\n",
    "# Example:\n",
    "# Creating the linked list: 1->2->3->4->5->6->7->8->9->NULL\n",
    "node9 = ListNode(9)\n",
    "node8 = ListNode(8, node9)\n",
    "node7 = ListNode(7, node8)\n",
    "node6 = ListNode(6, node7)\n",
    "node5 = ListNode(5, node6)\n",
    "node4 = ListNode(4, node5)\n",
    "node3 = ListNode(3, node4)\n",
    "node2 = ListNode(2, node3)\n",
    "head = ListNode(1, node2)\n",
    "\n",
    "# Reversing every alternate 3 nodes in the linked list\n",
    "head = reverseAlternateKNodes(head, 3)\n",
    "\n",
    "# Printing the modified linked list\n",
    "current = head\n",
    "while current:\n",
    "    print(current.val, end=\" \")\n",
    "    current = current.next\n"
   ]
  },
  {
   "cell_type": "markdown",
   "id": "a4346c65",
   "metadata": {},
   "source": [
    "Question 5"
   ]
  },
  {
   "cell_type": "code",
   "execution_count": 8,
   "id": "3d64b0f5",
   "metadata": {},
   "outputs": [
    {
     "name": "stdout",
     "output_type": "stream",
     "text": [
      "1 2 3 5 10 "
     ]
    }
   ],
   "source": [
    "class ListNode:\n",
    "    def __init__(self, val=0, next=None):\n",
    "        self.val = val\n",
    "        self.next = next\n",
    "\n",
    "def deleteLastOccurrence(head, key):\n",
    "    if not head:\n",
    "        return head\n",
    "\n",
    "    dummy = ListNode(0)\n",
    "    dummy.next = head\n",
    "    prev = None\n",
    "    last_occurrence = None\n",
    "    current = dummy\n",
    "\n",
    "    # Traverse the linked list to find the last occurrence of the key\n",
    "    while current.next:\n",
    "        if current.next.val == key:\n",
    "            last_occurrence = current.next\n",
    "            prev = current\n",
    "        current = current.next\n",
    "\n",
    "    # If the last occurrence is found, delete it by updating the prev.next pointer\n",
    "    if last_occurrence:\n",
    "        prev.next = last_occurrence.next\n",
    "\n",
    "    return dummy.next\n",
    "\n",
    "# Example:\n",
    "# Creating the linked list: 1->2->3->5->2->10\n",
    "node6 = ListNode(10)\n",
    "node5 = ListNode(2, node6)\n",
    "node4 = ListNode(5, node5)\n",
    "node3 = ListNode(3, node4)\n",
    "node2 = ListNode(2, node3)\n",
    "head = ListNode(1, node2)\n",
    "\n",
    "# Deleting the last occurrence of key=2 from the linked list\n",
    "head = deleteLastOccurrence(head, 2)\n",
    "\n",
    "# Printing the modified linked list\n",
    "current = head\n",
    "while current:\n",
    "    print(current.val, end=\" \")\n",
    "    current = current.next\n"
   ]
  },
  {
   "cell_type": "markdown",
   "id": "90f5b8a6",
   "metadata": {},
   "source": [
    "Question 6"
   ]
  },
  {
   "cell_type": "code",
   "execution_count": 10,
   "id": "b0c6228f",
   "metadata": {},
   "outputs": [
    {
     "name": "stdout",
     "output_type": "stream",
     "text": [
      "2 3 5 10 15 20 \n",
      "1 1 2 4 "
     ]
    }
   ],
   "source": [
    "class ListNode:\n",
    "    def __init__(self, val=0, next=None):\n",
    "        self.val = val\n",
    "        self.next = next\n",
    "\n",
    "def mergeTwoLists(a, b):\n",
    "    dummy = ListNode(0)\n",
    "    prev = dummy\n",
    "\n",
    "    # Merge the two lists until one of them reaches its end\n",
    "    while a and b:\n",
    "        if a.val <= b.val:\n",
    "            prev.next = a\n",
    "            a = a.next\n",
    "        else:\n",
    "            prev.next = b\n",
    "            b = b.next\n",
    "        prev = prev.next\n",
    "\n",
    "    # Append the remaining nodes of the non-empty list\n",
    "    if a:\n",
    "        prev.next = a\n",
    "    if b:\n",
    "        prev.next = b\n",
    "\n",
    "    return dummy.next\n",
    "\n",
    "\n",
    "# Creating the first sorted linked list: 5->10->15\n",
    "a3 = ListNode(15)\n",
    "a2 = ListNode(10, a3)\n",
    "a1 = ListNode(5, a2)\n",
    "\n",
    "# Creating the second sorted linked list: 2->3->20\n",
    "b3 = ListNode(20)\n",
    "b2 = ListNode(3, b3)\n",
    "b1 = ListNode(2, b2)\n",
    "\n",
    "# Merging the two lists and printing the result\n",
    "merged_head = mergeTwoLists(a1, b1)\n",
    "current = merged_head\n",
    "while current:\n",
    "    print(current.val, end=\" \")\n",
    "    current = current.next\n",
    "print()\n",
    "\n",
    "\n",
    "# Creating the first sorted linked list: 1->1\n",
    "a2 = ListNode(1)\n",
    "a1 = ListNode(1, a2)\n",
    "\n",
    "# Creating the second sorted linked list: 2->4\n",
    "b2 = ListNode(4)\n",
    "b1 = ListNode(2, b2)\n",
    "\n",
    "# Merging the two lists and printing the result\n",
    "merged_head = mergeTwoLists(a1, b1)\n",
    "current = merged_head\n",
    "while current:\n",
    "    print(current.val, end=\" \")\n",
    "    current = current.next\n"
   ]
  },
  {
   "cell_type": "markdown",
   "id": "0f71edda",
   "metadata": {},
   "source": [
    "Question 7"
   ]
  },
  {
   "cell_type": "code",
   "execution_count": 11,
   "id": "40ab2c9b",
   "metadata": {},
   "outputs": [
    {
     "name": "stdout",
     "output_type": "stream",
     "text": [
      "2 4 8 10 \n"
     ]
    }
   ],
   "source": [
    "class Node:\n",
    "    def __init__(self, data=None):\n",
    "        self.data = data\n",
    "        self.prev = None\n",
    "        self.next = None\n",
    "\n",
    "def reverseDoublyLinkedList(head):\n",
    "    current = head\n",
    "    prev = None\n",
    "\n",
    "    while current:\n",
    "        next_node = current.next\n",
    "        current.next = prev\n",
    "        current.prev = next_node\n",
    "        prev = current\n",
    "        current = next_node\n",
    "\n",
    "    return prev\n",
    "\n",
    "# Create the original doubly linked list: 10 <-> 8 <-> 4 <-> 2\n",
    "head = Node(10)\n",
    "node2 = Node(8)\n",
    "node4 = Node(4)\n",
    "node2.prev = head\n",
    "head.next = node2\n",
    "node4.prev = node2\n",
    "node2.next = node4\n",
    "node4.next = Node(2)\n",
    "node4.next.prev = node4\n",
    "\n",
    "# Reverse the doubly linked list\n",
    "reversed_head = reverseDoublyLinkedList(head)\n",
    "\n",
    "# Print the reversed list\n",
    "current = reversed_head\n",
    "while current:\n",
    "    print(current.data, end=\" \")\n",
    "    current = current.next\n",
    "print()\n"
   ]
  },
  {
   "cell_type": "markdown",
   "id": "e0dcfaa8",
   "metadata": {},
   "source": [
    "Question 7"
   ]
  },
  {
   "cell_type": "code",
   "execution_count": 12,
   "id": "2edd3080",
   "metadata": {},
   "outputs": [
    {
     "name": "stdout",
     "output_type": "stream",
     "text": [
      "1 3 \n"
     ]
    }
   ],
   "source": [
    "class Node:\n",
    "    def __init__(self, data=None):\n",
    "        self.data = data\n",
    "        self.prev = None\n",
    "        self.next = None\n",
    "\n",
    "def deleteNode(head, position):\n",
    "    # If position is 1, delete the head node\n",
    "    if position == 1:\n",
    "        if head is None:\n",
    "            return None\n",
    "        new_head = head.next\n",
    "        if new_head:\n",
    "            new_head.prev = None\n",
    "        return new_head\n",
    "\n",
    "    current = head\n",
    "    count = 1\n",
    "\n",
    "    # Traverse to the given position\n",
    "    while current and count < position:\n",
    "        current = current.next\n",
    "        count += 1\n",
    "\n",
    "    # If current is None, position is beyond the length of the list\n",
    "    if current is None:\n",
    "        return head\n",
    "\n",
    "    # Update the pointers of previous and next nodes\n",
    "    current.prev.next = current.next\n",
    "    if current.next:\n",
    "        current.next.prev = current.prev\n",
    "\n",
    "    # Delete the current node\n",
    "    current.next = None\n",
    "    current.prev = None\n",
    "\n",
    "    return head\n",
    "\n",
    "# Create the original doubly linked list: 1 <-> 3 <-> 4\n",
    "head = Node(1)\n",
    "node2 = Node(3)\n",
    "node4 = Node(4)\n",
    "node2.prev = head\n",
    "head.next = node2\n",
    "node4.prev = node2\n",
    "node2.next = node4\n",
    "\n",
    "# Delete a node at position 3\n",
    "new_head = deleteNode(head, 3)\n",
    "\n",
    "# Print the updated list\n",
    "current = new_head\n",
    "while current:\n",
    "    print(current.data, end=\" \")\n",
    "    current = current.next\n",
    "print()\n"
   ]
  },
  {
   "cell_type": "code",
   "execution_count": null,
   "id": "b193bae7",
   "metadata": {},
   "outputs": [],
   "source": []
  }
 ],
 "metadata": {
  "kernelspec": {
   "display_name": "Python 3 (ipykernel)",
   "language": "python",
   "name": "python3"
  },
  "language_info": {
   "codemirror_mode": {
    "name": "ipython",
    "version": 3
   },
   "file_extension": ".py",
   "mimetype": "text/x-python",
   "name": "python",
   "nbconvert_exporter": "python",
   "pygments_lexer": "ipython3",
   "version": "3.8.10"
  }
 },
 "nbformat": 4,
 "nbformat_minor": 5
}
