{
 "cells": [
  {
   "cell_type": "markdown",
   "id": "3d1ac737",
   "metadata": {},
   "source": [
    "Question 1"
   ]
  },
  {
   "cell_type": "code",
   "execution_count": null,
   "id": "70d4e297",
   "metadata": {},
   "outputs": [],
   "source": [
    "def minimumDeleteSum(s1, s2):\n",
    "    m, n = len(s1), len(s2)\n",
    "    dp = [[0] * (n + 1) for _ in range(m + 1)]\n",
    "\n",
    "    for i in range(m - 1, -1, -1):\n",
    "        dp[i][n] = dp[i+1][n] + ord(s1[i])\n",
    "\n",
    "    for j in range(n - 1, -1, -1):\n",
    "        dp[m][j] = dp[m][j+1] + ord(s2[j])\n",
    "\n",
    "    for i in range(m - 1, -1, -1):\n",
    "        for j in range(n - 1, -1, -1):\n",
    "            if s1[i] == s2[j]:\n",
    "                dp[i][j] = dp[i+1][j+1]\n",
    "            else:\n",
    "                dp[i][j] = min(dp[i+1][j] + ord(s1[i]), dp[i][j+1] + ord(s2[j]))\n",
    "\n",
    "    return dp[0][0]\n",
    "s1 = \"sea\"\n",
    "s2 = \"eat\"\n",
    "print(minimumDeleteSum(s1, s2))"
   ]
  },
  {
   "cell_type": "markdown",
   "id": "2f0b0e08",
   "metadata": {},
   "source": [
    "Question 2"
   ]
  },
  {
   "cell_type": "code",
   "execution_count": null,
   "id": "9361d315",
   "metadata": {},
   "outputs": [],
   "source": [
    "def isValid(s):\n",
    "    stack = []\n",
    "\n",
    "    for char in s:\n",
    "        if char == '(' or char == '*':\n",
    "            stack.append(char)\n",
    "        else:\n",
    "            if stack:\n",
    "                stack.pop()\n",
    "            else:\n",
    "                return False\n",
    "\n",
    "    while stack:\n",
    "        if stack[-1] == '(':\n",
    "            # Treat '*' as ')'\n",
    "            stack.pop()\n",
    "        elif stack[-1] == '*':\n",
    "            # Treat '*' as empty string \"\"\n",
    "            stack.pop()\n",
    "        else:\n",
    "            # Unmatched opening parenthesis '('\n",
    "            return False\n",
    "\n",
    "    return True\n",
    "s = \"()\"\n",
    "print(isValid(s))"
   ]
  },
  {
   "cell_type": "markdown",
   "id": "df766ae0",
   "metadata": {},
   "source": [
    "Question 3"
   ]
  },
  {
   "cell_type": "code",
   "execution_count": null,
   "id": "a2100e13",
   "metadata": {},
   "outputs": [],
   "source": [
    "def minSteps(word1, word2):\n",
    "    m, n = len(word1), len(word2)\n",
    "    dp = [[0] * (n + 1) for _ in range(m + 1)]\n",
    "\n",
    "    for i in range(1, m + 1):\n",
    "        for j in range(1, n + 1):\n",
    "            if word1[i - 1] == word2[j - 1]:\n",
    "                dp[i][j] = dp[i - 1][j - 1] + 1\n",
    "            else:\n",
    "                dp[i][j] = max(dp[i - 1][j], dp[i][j - 1])\n",
    "\n",
    "    return m + n - 2 * dp[m][n]\n",
    "word1 = \"sea\"\n",
    "word2 = \"eat\"\n",
    "print(minSteps(word1, word2))"
   ]
  },
  {
   "cell_type": "markdown",
   "id": "5f459493",
   "metadata": {},
   "source": [
    "Question 4"
   ]
  },
  {
   "cell_type": "code",
   "execution_count": null,
   "id": "653d5436",
   "metadata": {},
   "outputs": [],
   "source": [
    "class TreeNode:\n",
    "    def __init__(self, val=0, left=None, right=None):\n",
    "        self.val = val\n",
    "        self.left = left\n",
    "        self.right = right\n",
    "\n",
    "\n",
    "def buildTree(s):\n",
    "    if not s:\n",
    "        return None\n",
    "\n",
    "    # Find the index of the opening parenthesis\n",
    "    idx = s.find('(')\n",
    "\n",
    "    # Create the root node with the value before the opening parenthesis\n",
    "    root = TreeNode(int(s[:idx]))\n",
    "\n",
    "    # Find the indices of the closing parentheses\n",
    "    left_end = findMatchingParenthesis(s, idx)\n",
    "    right_end = findMatchingParenthesis(s, left_end + 1) if left_end < len(s) - 1 else -1\n",
    "\n",
    "    # Recursively construct the left and right subtrees\n",
    "    root.left = buildTree(s[idx + 1: left_end])\n",
    "    root.right = buildTree(s[left_end + 2: right_end])\n",
    "\n",
    "    return root\n",
    "\n",
    "\n",
    "def findMatchingParenthesis(s, start):\n",
    "    count = 0\n",
    "    for i in range(start, len(s)):\n",
    "        if s[i] == '(':\n",
    "            count += 1\n",
    "        elif s[i] == ')':\n",
    "            count -= 1\n",
    "            if count == 0:\n",
    "                return i\n",
    "    return -1\n",
    "s = \"4(2(3)(1))(6(5))\"\n",
    "root = buildTree(s)\n",
    "\n",
    "# Helper function to traverse and print the constructed binary tree\n",
    "def printTree(node):\n",
    "    if node is None:\n",
    "        return\n",
    "    print(node.val)\n",
    "    printTree(node.left)\n",
    "    printTree(node.right)\n",
    "\n",
    "printTree(root)"
   ]
  },
  {
   "cell_type": "markdown",
   "id": "728d325c",
   "metadata": {},
   "source": [
    "Question 5"
   ]
  },
  {
   "cell_type": "code",
   "execution_count": 2,
   "id": "425733c2",
   "metadata": {},
   "outputs": [
    {
     "name": "stdout",
     "output_type": "stream",
     "text": [
      "0\n",
      "[]\n"
     ]
    }
   ],
   "source": [
    "def compress(chars):\n",
    "    read = write = 0\n",
    "    count = 1\n",
    "\n",
    "    while read < len(chars):\n",
    "        if read > 0 and chars[read] == chars[read - 1]:\n",
    "            count += 1\n",
    "        elif read == len(chars) - 1 or chars[read] != chars[read + 1]:\n",
    "            chars[write] = chars[read]\n",
    "            write += 1\n",
    "\n",
    "            if count > 1:\n",
    "                count_str = str(count)\n",
    "                for ch in count_str:\n",
    "                    chars[write] = ch\n",
    "                    write += 1\n",
    "                count = 1\n",
    "        read += 1\n",
    "\n",
    "    return write\n",
    "\n",
    "chars = [\"a\", \"a\", \"b\", \"b\", \"c\", \"c\", \"c\"]\n",
    "new_length = compress(chars)\n",
    "\n",
    "print(new_length)\n",
    "print(chars[:new_length])"
   ]
  },
  {
   "cell_type": "markdown",
   "id": "9771be22",
   "metadata": {},
   "source": [
    "Question 6"
   ]
  },
  {
   "cell_type": "code",
   "execution_count": null,
   "id": "4dd7036f",
   "metadata": {},
   "outputs": [],
   "source": [
    "from collections import Counter\n",
    "\n",
    "def findAnagrams(s, p):\n",
    "    result = []\n",
    "    p_count = Counter(p)\n",
    "    s_count = Counter(s[:len(p)])\n",
    "    match_count = 0\n",
    "\n",
    "    for i in range(len(s) - len(p) + 1):\n",
    "        if i > 0:\n",
    "            # Update s_count for the new window\n",
    "            s_count[s[i-1]] -= 1\n",
    "            if s_count[s[i-1]] == 0:\n",
    "                del s_count[s[i-1]]\n",
    "\n",
    "        s_count[s[i+len(p)-1]] += 1\n",
    "\n",
    "        if s[i] in p_count and s_count[s[i]] == p_count[s[i]]:\n",
    "            match_count += 1\n",
    "\n",
    "        if match_count == len(p_count):\n",
    "            result.append(i)\n",
    "\n",
    "    return result\n",
    "s = \"cbaebabacd\"\n",
    "p = \"abc\"\n",
    "print(findAnagrams(s, p))"
   ]
  },
  {
   "cell_type": "markdown",
   "id": "d406f428",
   "metadata": {},
   "source": [
    "Question 7"
   ]
  },
  {
   "cell_type": "code",
   "execution_count": 3,
   "id": "c7a08462",
   "metadata": {},
   "outputs": [
    {
     "name": "stdout",
     "output_type": "stream",
     "text": [
      "aaabcbc\n"
     ]
    }
   ],
   "source": [
    "def decodeString(s):\n",
    "    stack = []\n",
    "    curr_num = 0\n",
    "    curr_str = ''\n",
    "\n",
    "    for ch in s:\n",
    "        if ch.isdigit():\n",
    "            curr_num = curr_num * 10 + int(ch)\n",
    "        elif ch == '[':\n",
    "            stack.append(curr_str)\n",
    "            stack.append(curr_num)\n",
    "            curr_str = ''\n",
    "            curr_num = 0\n",
    "        elif ch == ']':\n",
    "            num = stack.pop()\n",
    "            prev_str = stack.pop()\n",
    "            curr_str = prev_str + num * curr_str\n",
    "        else:\n",
    "            curr_str += ch\n",
    "\n",
    "    return curr_str\n",
    "\n",
    "s = \"3[a]2[bc]\"\n",
    "decoded_string = decodeString(s)\n",
    "\n",
    "print(decoded_string)\n"
   ]
  },
  {
   "cell_type": "markdown",
   "id": "128d5ea3",
   "metadata": {},
   "source": [
    "Question 8"
   ]
  },
  {
   "cell_type": "code",
   "execution_count": 4,
   "id": "b1e647f4",
   "metadata": {},
   "outputs": [
    {
     "name": "stdout",
     "output_type": "stream",
     "text": [
      "True\n"
     ]
    }
   ],
   "source": [
    "def buddyStrings(s, goal):\n",
    "    if len(s) != len(goal):\n",
    "        return False\n",
    "\n",
    "    mismatched = []\n",
    "    for i in range(len(s)):\n",
    "        if s[i] != goal[i]:\n",
    "            mismatched.append(i)\n",
    "\n",
    "    if len(mismatched) == 2:\n",
    "        i, j = mismatched\n",
    "        if s[i] == goal[j] and s[j] == goal[i]:\n",
    "            return True\n",
    "\n",
    "    if len(mismatched) == 0 and len(set(s)) < len(s):\n",
    "        return True\n",
    "\n",
    "    return False\n",
    "s = \"ab\"\n",
    "goal = \"ba\"\n",
    "print(buddyStrings(s, goal))"
   ]
  },
  {
   "cell_type": "code",
   "execution_count": null,
   "id": "02735598",
   "metadata": {},
   "outputs": [],
   "source": []
  }
 ],
 "metadata": {
  "kernelspec": {
   "display_name": "Python 3 (ipykernel)",
   "language": "python",
   "name": "python3"
  },
  "language_info": {
   "codemirror_mode": {
    "name": "ipython",
    "version": 3
   },
   "file_extension": ".py",
   "mimetype": "text/x-python",
   "name": "python",
   "nbconvert_exporter": "python",
   "pygments_lexer": "ipython3",
   "version": "3.10.8"
  }
 },
 "nbformat": 4,
 "nbformat_minor": 5
}
