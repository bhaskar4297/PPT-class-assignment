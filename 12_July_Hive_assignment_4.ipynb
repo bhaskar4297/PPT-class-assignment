{
 "cells": [
  {
   "cell_type": "markdown",
   "id": "04d73c2f",
   "metadata": {},
   "source": [
    "1.  Write a Python program that uses the HiveQL language to create a table named \"Employees\" with columns for \"id,\" \"name,\" and \"salary.\""
   ]
  },
  {
   "cell_type": "code",
   "execution_count": null,
   "id": "4228f0cc",
   "metadata": {},
   "outputs": [],
   "source": [
    "from pyhive import hive\n",
    "\n",
    "def create_employees_table():\n",
    "    connection = hive.Connection(host=\"localhost\", port=10000, username=\"your_username\")\n",
    "    cursor = connection.cursor()\n",
    "    create_table_query = \"\"\"\n",
    "        CREATE TABLE Employees (\n",
    "            id INT,\n",
    "            name STRING,\n",
    "            salary DECIMAL(10,2)\n",
    "        )\n",
    "    \"\"\"\n",
    "    cursor.execute(create_table_query)\n",
    "    cursor.close()\n",
    "    connection.close()\n",
    "    print(\"Employees table created successfully.\")\n",
    "\n",
    "# Example usage\n",
    "create_employees_table()\n"
   ]
  },
  {
   "cell_type": "markdown",
   "id": "50164ee9",
   "metadata": {},
   "source": [
    "2.  Create a Python program that retrieves records from a Hive table named \"Customers\" where the age is greater than 30."
   ]
  },
  {
   "cell_type": "code",
   "execution_count": null,
   "id": "5fd7cde8",
   "metadata": {},
   "outputs": [],
   "source": [
    "from pyhive import hive\n",
    "\n",
    "def get_customers_by_age():\n",
    "    connection = hive.Connection(host=\"localhost\", port=10000, username=\"your_username\")\n",
    "    cursor = connection.cursor()\n",
    "    select_query = \"\"\"\n",
    "        SELECT *\n",
    "        FROM Customers\n",
    "        WHERE age > 30\n",
    "    \"\"\"\n",
    "    cursor.execute(select_query)\n",
    "    results = cursor.fetchall()\n",
    "    cursor.close()\n",
    "    connection.close()\n",
    "    return results\n",
    "\n",
    "# Example usage\n",
    "customers = get_customers_by_age()\n",
    "for customer in customers:\n",
    "    print(customer)\n"
   ]
  },
  {
   "cell_type": "markdown",
   "id": "3eecbbf8",
   "metadata": {},
   "source": [
    "3.  Write a Python script that sorts records in descending order based on the \"timestamp\" column in a Hive table named \"Logs.\""
   ]
  },
  {
   "cell_type": "code",
   "execution_count": null,
   "id": "37f77aa4",
   "metadata": {},
   "outputs": [],
   "source": [
    "from pyhive import hive\n",
    "\n",
    "def sort_logs_by_timestamp():\n",
    "    connection = hive.Connection(host=\"localhost\", port=10000, username=\"your_username\")\n",
    "    cursor = connection.cursor()\n",
    "    sort_query = \"\"\"\n",
    "        SELECT *\n",
    "        FROM Logs\n",
    "        ORDER BY timestamp DESC\n",
    "    \"\"\"\n",
    "    cursor.execute(sort_query)\n",
    "    results = cursor.fetchall()\n",
    "    cursor.close()\n",
    "    connection.close()\n",
    "    return results\n",
    "\n",
    "# Example usage\n",
    "logs_sorted = sort_logs_by_timestamp()\n",
    "for log in logs_sorted:\n",
    "    print(log)\n"
   ]
  },
  {
   "cell_type": "markdown",
   "id": "57093428",
   "metadata": {},
   "source": [
    "4.  Write a Python program that connects to a Hive server using PyHive library and retrieves all records from a table named \"Products\"."
   ]
  },
  {
   "cell_type": "code",
   "execution_count": null,
   "id": "42e7b52b",
   "metadata": {},
   "outputs": [],
   "source": [
    "from pyhive import hive\n",
    "\n",
    "def get_all_products():\n",
    "    connection = hive.Connection(host=\"localhost\", port=10000, username=\"your_username\")\n",
    "    cursor = connection.cursor()\n",
    "    select_query = \"SELECT * FROM Products\"\n",
    "    cursor.execute(select_query)\n",
    "    results = cursor.fetchall()\n",
    "    cursor.close()\n",
    "    connection.close()\n",
    "    return results\n",
    "\n",
    "# Example usage\n",
    "products = get_all_products()\n",
    "for product in products:\n",
    "    print(product)\n"
   ]
  },
  {
   "cell_type": "markdown",
   "id": "5e357502",
   "metadata": {},
   "source": [
    "5.  Write a Python script that calculates the average salary of employees from a Hive table named \"Employees\"."
   ]
  },
  {
   "cell_type": "code",
   "execution_count": null,
   "id": "ac15878f",
   "metadata": {},
   "outputs": [],
   "source": [
    "from pyhive import hive\n",
    "\n",
    "def calculate_average_salary():\n",
    "    connection = hive.Connection(host=\"localhost\", port=10000, username=\"your_username\")\n",
    "    cursor = connection.cursor()\n",
    "    select_query = \"SELECT AVG(salary) FROM Employees\"\n",
    "    cursor.execute(select_query)\n",
    "    average_salary = cursor.fetchone()[0]\n",
    "    cursor.close()\n",
    "    connection.close()\n",
    "    return average_salary\n",
    "\n",
    "# Example usage\n",
    "average_salary = calculate_average_salary()\n",
    "print(f\"Average salary: {average_salary}\")\n"
   ]
  },
  {
   "cell_type": "markdown",
   "id": "5ee2d6a3",
   "metadata": {},
   "source": [
    "6.  Implement a Python program that uses Hive partitioning to create a partitioned table named \"Sales_Data\" based on the \"year\" and \"month\" columns."
   ]
  },
  {
   "cell_type": "code",
   "execution_count": null,
   "id": "553ec082",
   "metadata": {},
   "outputs": [],
   "source": [
    "from pyhive import hive\n",
    "\n",
    "def create_partitioned_sales_table():\n",
    "    connection = hive.Connection(host=\"localhost\", port=10000, username=\"your_username\")\n",
    "    cursor = connection.cursor()\n",
    "    create_table_query = \"\"\"\n",
    "        CREATE TABLE Sales_Data (\n",
    "            id INT,\n",
    "            amount DECIMAL(10,2)\n",
    "        )\n",
    "        PARTITIONED BY (year INT, month INT)\n",
    "    \"\"\"\n",
    "    cursor.execute(create_table_query)\n",
    "    cursor.close()\n",
    "    connection.close()\n",
    "    print(\"Sales_Data partitioned table created successfully.\")\n",
    "\n",
    "# Example usage\n",
    "create_partitioned_sales_table()\n"
   ]
  },
  {
   "cell_type": "markdown",
   "id": "2da17987",
   "metadata": {},
   "source": [
    "7.  Develop a Python script that adds a new column named \"email\" of type string to an existing Hive table named \"Employees.\""
   ]
  },
  {
   "cell_type": "code",
   "execution_count": null,
   "id": "f33f1df7",
   "metadata": {},
   "outputs": [],
   "source": [
    "from pyhive import hive\n",
    "\n",
    "def add_email_column():\n",
    "    connection = hive.Connection(host=\"localhost\", port=10000, username=\"your_username\")\n",
    "    cursor = connection.cursor()\n",
    "    add_column_query = \"ALTER TABLE Employees ADD COLUMNS (email STRING)\"\n",
    "    cursor.execute(add_column_query)\n",
    "    cursor.close()\n",
    "    connection.close()\n",
    "    print(\"Email column added to Employees table.\")\n",
    "\n",
    "# Example usage\n",
    "add_email_column()\n"
   ]
  },
  {
   "cell_type": "markdown",
   "id": "6be868ad",
   "metadata": {},
   "source": [
    "8.  Create a Python program that performs an inner join between two Hive tables, \"Orders\" and \"Customers,\" based on a common column."
   ]
  },
  {
   "cell_type": "code",
   "execution_count": null,
   "id": "401d637c",
   "metadata": {},
   "outputs": [],
   "source": [
    "from pyhive import hive\n",
    "\n",
    "def perform_inner_join():\n",
    "    connection = hive.Connection(host=\"localhost\", port=10000, username=\"your_username\")\n",
    "    cursor = connection.cursor()\n",
    "    join_query = \"\"\"\n",
    "        SELECT *\n",
    "        FROM Orders\n",
    "        INNER JOIN Customers ON Orders.customer_id = Customers.customer_id\n",
    "    \"\"\"\n",
    "    cursor.execute(join_query)\n",
    "    results = cursor.fetchall()\n",
    "    cursor.close()\n",
    "    connection.close()\n",
    "    return results\n",
    "\n",
    "# Example usage\n",
    "join_results = perform_inner_join()\n",
    "for result in join_results:\n",
    "    print(result)\n"
   ]
  },
  {
   "cell_type": "markdown",
   "id": "208574ba",
   "metadata": {},
   "source": [
    "9.  Implement a Python program that uses the Hive SerDe library to process JSON data stored in a Hive table named \"User_Activity_Logs.\""
   ]
  },
  {
   "cell_type": "code",
   "execution_count": null,
   "id": "1131732d",
   "metadata": {},
   "outputs": [],
   "source": [
    "from pyhive import hive\n",
    "\n",
    "def process_json_logs():\n",
    "    connection = hive.Connection(host=\"localhost\", port=10000, username=\"your_username\")\n",
    "    cursor = connection.cursor()\n",
    "    select_query = \"SELECT * FROM User_Activity_Logs\"\n",
    "    cursor.execute(select_query)\n",
    "    results = cursor.fetchall()\n",
    "    cursor.close()\n",
    "    connection.close()\n",
    "    return results\n",
    "\n",
    "# Example usage\n",
    "json_logs = process_json_logs()\n",
    "for log in json_logs:\n",
    "    print(log)\n"
   ]
  }
 ],
 "metadata": {
  "kernelspec": {
   "display_name": "Python 3 (ipykernel)",
   "language": "python",
   "name": "python3"
  },
  "language_info": {
   "codemirror_mode": {
    "name": "ipython",
    "version": 3
   },
   "file_extension": ".py",
   "mimetype": "text/x-python",
   "name": "python",
   "nbconvert_exporter": "python",
   "pygments_lexer": "ipython3",
   "version": "3.11.4"
  }
 },
 "nbformat": 4,
 "nbformat_minor": 5
}
