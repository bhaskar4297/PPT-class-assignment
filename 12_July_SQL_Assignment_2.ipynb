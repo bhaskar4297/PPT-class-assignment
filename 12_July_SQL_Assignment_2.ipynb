{
 "cells": [
  {
   "cell_type": "markdown",
   "id": "b4cb860f",
   "metadata": {},
   "source": [
    "1. Write an SQL query to retrieve the names and email addresses of all employees from a table named \"Employees\"."
   ]
  },
  {
   "cell_type": "code",
   "execution_count": null,
   "id": "6e547fe5",
   "metadata": {},
   "outputs": [],
   "source": [
    "SELECT name, email\n",
    "FROM Employees;\n"
   ]
  },
  {
   "cell_type": "markdown",
   "id": "9c5f668f",
   "metadata": {},
   "source": [
    "2. Write an SQL query to filter records from a table named \"Customers\" where the \"City\" column is 'New York'."
   ]
  },
  {
   "cell_type": "code",
   "execution_count": null,
   "id": "d5fd0590",
   "metadata": {},
   "outputs": [],
   "source": [
    "SELECT *\n",
    "FROM Customers\n",
    "WHERE City = 'New York';\n"
   ]
  },
  {
   "cell_type": "markdown",
   "id": "da1ee537",
   "metadata": {},
   "source": [
    "3. Write an SQL query to sort records in descending order based on the \"DateOfBirth\" column in a table named \"Users\"."
   ]
  },
  {
   "cell_type": "code",
   "execution_count": null,
   "id": "7da9e3c2",
   "metadata": {},
   "outputs": [],
   "source": [
    "SELECT *\n",
    "FROM Users\n",
    "ORDER BY DateOfBirth DESC;\n"
   ]
  },
  {
   "cell_type": "markdown",
   "id": "0bd2d2ae",
   "metadata": {},
   "source": [
    "4. Write an SQL query to sort records in ascending order based on the \"RegistrationDate\" column in a table named \"Users\"."
   ]
  },
  {
   "cell_type": "code",
   "execution_count": null,
   "id": "49cb532b",
   "metadata": {},
   "outputs": [],
   "source": [
    "SELECT *\n",
    "FROM Users\n",
    "ORDER BY RegistrationDate ASC;\n"
   ]
  },
  {
   "cell_type": "markdown",
   "id": "84cd3d46",
   "metadata": {},
   "source": [
    "5. Write an SQL query to find the employee with the highest salary from a table named \"Employees\" and display their name, position, and salary."
   ]
  },
  {
   "cell_type": "code",
   "execution_count": null,
   "id": "1d350e1d",
   "metadata": {},
   "outputs": [],
   "source": [
    "SELECT name, position, salary\n",
    "FROM Employees\n",
    "ORDER BY salary DESC\n",
    "LIMIT 1;\n"
   ]
  },
  {
   "cell_type": "markdown",
   "id": "039c5756",
   "metadata": {},
   "source": [
    "6. Write an SQL query to retrieve records from a table named \"Customers\" where the \"Phone\" column matches the pattern '+1-XXX-XXX-XXXX'."
   ]
  },
  {
   "cell_type": "code",
   "execution_count": null,
   "id": "92ce413c",
   "metadata": {},
   "outputs": [],
   "source": [
    "SELECT *\n",
    "FROM Customers\n",
    "WHERE Phone LIKE '+1-___-___-____';\n"
   ]
  },
  {
   "cell_type": "markdown",
   "id": "50545b7d",
   "metadata": {},
   "source": [
    "7. Write an SQL query to retrieve the top 5 customers with the highest total purchase amount from a table named \"Orders\" and display their names and total purchase amounts."
   ]
  },
  {
   "cell_type": "code",
   "execution_count": null,
   "id": "2cbaee10",
   "metadata": {},
   "outputs": [],
   "source": [
    "SELECT CustomerName, SUM(PurchaseAmount) AS TotalPurchaseAmount\n",
    "FROM Orders\n",
    "GROUP BY CustomerName\n",
    "ORDER BY TotalPurchaseAmount DESC\n",
    "LIMIT 5;\n"
   ]
  },
  {
   "cell_type": "markdown",
   "id": "d15bbfcc",
   "metadata": {},
   "source": [
    "8. Write an SQL query to calculate the percentage of sales for each product category in a table named \"Sales\" and display the category name, total sales amount, and the percentage of total sales."
   ]
  },
  {
   "cell_type": "code",
   "execution_count": null,
   "id": "067a5990",
   "metadata": {},
   "outputs": [],
   "source": [
    "SELECT Category, SUM(SalesAmount) AS TotalSalesAmount, (SUM(SalesAmount) / (SELECT SUM(SalesAmount) FROM Sales)) * 100 AS PercentageOfTotalSales\n",
    "FROM Sales\n",
    "GROUP BY Category;\n"
   ]
  },
  {
   "cell_type": "markdown",
   "id": "ffb1d52d",
   "metadata": {},
   "source": [
    "9. Write an SQL query to find the customers who have made the highest total purchases across all years from a table named \"Orders\" and display their names, email addresses, and the total purchase amount."
   ]
  },
  {
   "cell_type": "code",
   "execution_count": null,
   "id": "2dfa5514",
   "metadata": {},
   "outputs": [],
   "source": [
    "SELECT CustomerName, Email, SUM(PurchaseAmount) AS TotalPurchaseAmount\n",
    "FROM Orders\n",
    "GROUP BY CustomerName, Email\n",
    "HAVING SUM(PurchaseAmount) = (SELECT MAX(TotalPurchases) FROM (SELECT SUM(PurchaseAmount) AS TotalPurchases FROM Orders GROUP BY CustomerName) AS Subquery);\n"
   ]
  }
 ],
 "metadata": {
  "kernelspec": {
   "display_name": "Python 3 (ipykernel)",
   "language": "python",
   "name": "python3"
  },
  "language_info": {
   "codemirror_mode": {
    "name": "ipython",
    "version": 3
   },
   "file_extension": ".py",
   "mimetype": "text/x-python",
   "name": "python",
   "nbconvert_exporter": "python",
   "pygments_lexer": "ipython3",
   "version": "3.11.4"
  }
 },
 "nbformat": 4,
 "nbformat_minor": 5
}
