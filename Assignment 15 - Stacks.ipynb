{
 "cells": [
  {
   "cell_type": "markdown",
   "id": "f058a54b",
   "metadata": {},
   "source": [
    "# Assignment Questions 15"
   ]
  },
  {
   "cell_type": "markdown",
   "id": "effd188f",
   "metadata": {},
   "source": [
    "https://pwskills.notion.site/Assignment-Questions-15-05099d0ec67e47c590647912ba07e962"
   ]
  },
  {
   "cell_type": "markdown",
   "id": "2eb116ad",
   "metadata": {},
   "source": [
    "Question 1"
   ]
  },
  {
   "cell_type": "code",
   "execution_count": 1,
   "id": "0e3fd868",
   "metadata": {},
   "outputs": [
    {
     "name": "stdout",
     "output_type": "stream",
     "text": [
      "[3, 4, 4, -1]\n"
     ]
    }
   ],
   "source": [
    "def nextGreaterElement(arr):\n",
    "    n = len(arr)\n",
    "    result = [-1] * n\n",
    "    stack = []\n",
    "\n",
    "    for i in range(n):\n",
    "        # Check if the current element is greater than elements in the stack\n",
    "        while stack and arr[i] > arr[stack[-1]]:\n",
    "            idx = stack.pop()\n",
    "            result[idx] = arr[i]\n",
    "        \n",
    "        # Push the index of the current element to the stack\n",
    "        stack.append(i)\n",
    "\n",
    "    return result\n",
    "\n",
    "# Example usage\n",
    "arr = [1, 3, 2, 4]\n",
    "output = nextGreaterElement(arr)\n",
    "print(output)\n"
   ]
  },
  {
   "cell_type": "markdown",
   "id": "831912da",
   "metadata": {},
   "source": [
    "Question 2"
   ]
  },
  {
   "cell_type": "code",
   "execution_count": 2,
   "id": "7f232495",
   "metadata": {},
   "outputs": [
    {
     "name": "stdout",
     "output_type": "stream",
     "text": [
      "[-1, 1, 1]\n"
     ]
    }
   ],
   "source": [
    "def nearestSmallerElement(arr):\n",
    "    n = len(arr)\n",
    "    result = [-1] * n\n",
    "    stack = []\n",
    "\n",
    "    for i in range(n):\n",
    "        # Check if the current element is greater than elements in the stack\n",
    "        while stack and arr[i] <= arr[stack[-1]]:\n",
    "            stack.pop()\n",
    "        \n",
    "        # If there is a smaller element on the left, update the result\n",
    "        if stack:\n",
    "            result[i] = arr[stack[-1]]\n",
    "        \n",
    "        # Push the current index to the stack\n",
    "        stack.append(i)\n",
    "\n",
    "    return result\n",
    "\n",
    "# Example usage\n",
    "arr = [1, 6, 2]\n",
    "output = nearestSmallerElement(arr)\n",
    "print(output)\n"
   ]
  },
  {
   "cell_type": "markdown",
   "id": "d59d23d0",
   "metadata": {},
   "source": [
    "Question 3"
   ]
  },
  {
   "cell_type": "code",
   "execution_count": 3,
   "id": "634f2b61",
   "metadata": {},
   "outputs": [
    {
     "name": "stdout",
     "output_type": "stream",
     "text": [
      "3\n",
      "4\n"
     ]
    }
   ],
   "source": [
    "class Stack:\n",
    "    def __init__(self):\n",
    "        self.q1 = []\n",
    "        self.q2 = []\n",
    "\n",
    "    def push(self, value):\n",
    "        self.q1.append(value)\n",
    "\n",
    "    def pop(self):\n",
    "        if not self.q1:\n",
    "            return None\n",
    "        \n",
    "        while len(self.q1) > 1:\n",
    "            self.q2.append(self.q1.pop(0))\n",
    "        \n",
    "        popped = self.q1.pop(0)\n",
    "        \n",
    "        # Swap the names of q1 and q2\n",
    "        self.q1, self.q2 = self.q2, self.q1\n",
    "        \n",
    "        return popped\n",
    "\n",
    "# Example usage\n",
    "stack = Stack()\n",
    "stack.push(2)\n",
    "stack.push(3)\n",
    "print(stack.pop())  # Output: 3\n",
    "stack.push(4)\n",
    "print(stack.pop())  # Output: 4\n"
   ]
  },
  {
   "cell_type": "markdown",
   "id": "02ac0604",
   "metadata": {},
   "source": [
    "Question 4"
   ]
  },
  {
   "cell_type": "code",
   "execution_count": 4,
   "id": "af79ae01",
   "metadata": {},
   "outputs": [
    {
     "name": "stdout",
     "output_type": "stream",
     "text": [
      "[6, 7, 1, 2, 3]\n"
     ]
    }
   ],
   "source": [
    "def reverse_stack(stack):\n",
    "    if len(stack) <= 1:\n",
    "        return\n",
    "    \n",
    "    # Pop an element from the stack\n",
    "    top = stack.pop()\n",
    "    \n",
    "    # Recursively reverse the remaining stack\n",
    "    reverse_stack(stack)\n",
    "    \n",
    "    # Insert the popped element at the bottom\n",
    "    insert_at_bottom(stack, top)\n",
    "\n",
    "def insert_at_bottom(stack, item):\n",
    "    if len(stack) == 0:\n",
    "        stack.append(item)\n",
    "        return\n",
    "    \n",
    "    # Pop an element from the stack\n",
    "    top = stack.pop()\n",
    "    \n",
    "    # Recursively insert the item at the bottom\n",
    "    insert_at_bottom(stack, item)\n",
    "    \n",
    "    # Push the popped element back to the stack\n",
    "    stack.append(top)\n",
    "\n",
    "# Example usage\n",
    "stack = [3, 2, 1, 7, 6]\n",
    "reverse_stack(stack)\n",
    "print(stack)  # Output: [6, 7, 1, 2, 3]\n"
   ]
  },
  {
   "cell_type": "markdown",
   "id": "a18ae807",
   "metadata": {},
   "source": [
    "Question 5"
   ]
  },
  {
   "cell_type": "code",
   "execution_count": 5,
   "id": "9abd121e",
   "metadata": {},
   "outputs": [
    {
     "name": "stdout",
     "output_type": "stream",
     "text": [
      "skeeGrofskeeG\n"
     ]
    }
   ],
   "source": [
    "def reverse_string(string):\n",
    "    stack = []\n",
    "    \n",
    "    # Push each character onto the stack\n",
    "    for char in string:\n",
    "        stack.append(char)\n",
    "    \n",
    "    reversed_string = \"\"\n",
    "    \n",
    "    # Pop the characters from the stack and append them to the new string\n",
    "    while stack:\n",
    "        reversed_string += stack.pop()\n",
    "    \n",
    "    return reversed_string\n",
    "\n",
    "# Example usage\n",
    "string = \"GeeksforGeeks\"\n",
    "reversed_string = reverse_string(string)\n",
    "print(reversed_string)  # Output: skeeGrofskeeG\n"
   ]
  },
  {
   "cell_type": "markdown",
   "id": "adab1232",
   "metadata": {},
   "source": [
    "Question 6"
   ]
  },
  {
   "cell_type": "code",
   "execution_count": 6,
   "id": "73f5e66d",
   "metadata": {},
   "outputs": [
    {
     "name": "stdout",
     "output_type": "stream",
     "text": [
      "-4\n"
     ]
    }
   ],
   "source": [
    "def evaluate_postfix(expression):\n",
    "    stack = []\n",
    "\n",
    "    for char in expression:\n",
    "        if char.isdigit():\n",
    "            stack.append(int(char))\n",
    "        else:\n",
    "            operand2 = stack.pop()\n",
    "            operand1 = stack.pop()\n",
    "\n",
    "            if char == '*':\n",
    "                result = operand1 * operand2\n",
    "            elif char == '/':\n",
    "                result = operand1 / operand2\n",
    "            elif char == '+':\n",
    "                result = operand1 + operand2\n",
    "            elif char == '-':\n",
    "                result = operand1 - operand2\n",
    "\n",
    "            stack.append(result)\n",
    "\n",
    "    return stack.pop()\n",
    "\n",
    "# Example usage\n",
    "expression = \"231*+9-\"\n",
    "result = evaluate_postfix(expression)\n",
    "print(result)  # Output: -4\n"
   ]
  },
  {
   "cell_type": "markdown",
   "id": "fcf20808",
   "metadata": {},
   "source": [
    "Question 7"
   ]
  },
  {
   "cell_type": "code",
   "execution_count": 7,
   "id": "bb0aa551",
   "metadata": {},
   "outputs": [
    {
     "name": "stdout",
     "output_type": "stream",
     "text": [
      "-3\n",
      "0\n",
      "-2\n"
     ]
    }
   ],
   "source": [
    "class MinStack:\n",
    "    def __init__(self):\n",
    "        self.stack = []\n",
    "        self.min_stack = []\n",
    "\n",
    "    def push(self, val):\n",
    "        self.stack.append(val)\n",
    "        if not self.min_stack or val <= self.min_stack[-1]:\n",
    "            self.min_stack.append(val)\n",
    "\n",
    "    def pop(self):\n",
    "        if self.stack.pop() == self.min_stack[-1]:\n",
    "            self.min_stack.pop()\n",
    "\n",
    "    def top(self):\n",
    "        return self.stack[-1]\n",
    "\n",
    "    def getMin(self):\n",
    "        return self.min_stack[-1]\n",
    "\n",
    "# Example usage\n",
    "minStack = MinStack()\n",
    "minStack.push(-2)\n",
    "minStack.push(0)\n",
    "minStack.push(-3)\n",
    "print(minStack.getMin())  # Output: -3\n",
    "minStack.pop()\n",
    "print(minStack.top())     # Output: 0\n",
    "print(minStack.getMin())  # Output: -2\n"
   ]
  },
  {
   "cell_type": "markdown",
   "id": "a6824167",
   "metadata": {},
   "source": [
    "Question 8"
   ]
  },
  {
   "cell_type": "code",
   "execution_count": 8,
   "id": "6bc0f62a",
   "metadata": {},
   "outputs": [
    {
     "name": "stdout",
     "output_type": "stream",
     "text": [
      "6\n",
      "9\n"
     ]
    }
   ],
   "source": [
    "def trap(height):\n",
    "    left = 0\n",
    "    right = len(height) - 1\n",
    "    left_max = right_max = water = 0\n",
    "\n",
    "    while left <= right:\n",
    "        if height[left] <= height[right]:\n",
    "            if height[left] > left_max:\n",
    "                left_max = height[left]\n",
    "            else:\n",
    "                water += left_max - height[left]\n",
    "            left += 1\n",
    "        else:\n",
    "            if height[right] > right_max:\n",
    "                right_max = height[right]\n",
    "            else:\n",
    "                water += right_max - height[right]\n",
    "            right -= 1\n",
    "\n",
    "    return water\n",
    "\n",
    "# Example usage\n",
    "height = [0, 1, 0, 2, 1, 0, 1, 3, 2, 1, 2, 1]\n",
    "print(trap(height))  # Output: 6\n",
    "\n",
    "height = [4, 2, 0, 3, 2, 5]\n",
    "print(trap(height))  # Output: 9\n"
   ]
  },
  {
   "cell_type": "code",
   "execution_count": null,
   "id": "5333c73a",
   "metadata": {},
   "outputs": [],
   "source": []
  }
 ],
 "metadata": {
  "kernelspec": {
   "display_name": "Python 3 (ipykernel)",
   "language": "python",
   "name": "python3"
  },
  "language_info": {
   "codemirror_mode": {
    "name": "ipython",
    "version": 3
   },
   "file_extension": ".py",
   "mimetype": "text/x-python",
   "name": "python",
   "nbconvert_exporter": "python",
   "pygments_lexer": "ipython3",
   "version": "3.8.10"
  }
 },
 "nbformat": 4,
 "nbformat_minor": 5
}
