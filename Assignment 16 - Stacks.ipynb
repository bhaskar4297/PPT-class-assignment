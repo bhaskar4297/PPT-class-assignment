{
 "cells": [
  {
   "cell_type": "markdown",
   "id": "f058a54b",
   "metadata": {},
   "source": [
    "# Assignment Questions 16"
   ]
  },
  {
   "cell_type": "markdown",
   "id": "effd188f",
   "metadata": {},
   "source": [
    "https://pwskills.notion.site/Assignment-Questions-16-dba1b3bc36c941e5a45f060f83fc59e5"
   ]
  },
  {
   "cell_type": "markdown",
   "id": "2eb116ad",
   "metadata": {},
   "source": [
    "Question 1"
   ]
  },
  {
   "cell_type": "code",
   "execution_count": 1,
   "id": "d94c04d7",
   "metadata": {},
   "outputs": [
    {
     "name": "stdout",
     "output_type": "stream",
     "text": [
      "[-1, 2, -1, 4, 2, 1, -1]\n"
     ]
    }
   ],
   "source": [
    "def findNearestGreaterFrequency(nums):\n",
    "    stack = []\n",
    "    frequencies = {}\n",
    "    result = []\n",
    "\n",
    "    for i in range(len(nums) - 1, -1, -1):\n",
    "        while stack and frequencies.get(nums[stack[-1]], 0) <= frequencies.get(nums[i], 0):\n",
    "            stack.pop()\n",
    "\n",
    "        if not stack:\n",
    "            result.append(-1)\n",
    "        else:\n",
    "            result.append(nums[stack[-1]])\n",
    "\n",
    "        stack.append(i)\n",
    "        frequencies[nums[i]] = frequencies.get(nums[i], 0) + 1\n",
    "\n",
    "    return result[::-1]\n",
    "\n",
    "# Example usage\n",
    "nums = [1, 1, 2, 3, 4, 2, 1]\n",
    "print(findNearestGreaterFrequency(nums))  # Output: [-1, -1, 1, 2, 2, 1, -1]\n"
   ]
  },
  {
   "cell_type": "markdown",
   "id": "46b49756",
   "metadata": {},
   "source": [
    "Question 2"
   ]
  },
  {
   "cell_type": "code",
   "execution_count": 2,
   "id": "0e3fd868",
   "metadata": {},
   "outputs": [
    {
     "name": "stdout",
     "output_type": "stream",
     "text": [
      "[98, 92, 34, 31, 23, 3]\n"
     ]
    }
   ],
   "source": [
    "def sortStack(stack):\n",
    "    tempStack = []\n",
    "    \n",
    "    while stack:\n",
    "        temp = stack.pop()\n",
    "        \n",
    "        while tempStack and tempStack[-1] > temp:\n",
    "            stack.append(tempStack.pop())\n",
    "            \n",
    "        tempStack.append(temp)\n",
    "    \n",
    "    # Copy elements from tempStack back to stack\n",
    "    while tempStack:\n",
    "        stack.append(tempStack.pop())\n",
    "    \n",
    "    return stack\n",
    "\n",
    "# Example usage\n",
    "stack = [34, 3, 31, 98, 92, 23]\n",
    "sortedStack = sortStack(stack)\n",
    "print(sortedStack)  # Output: [3, 23, 31, 34, 92, 98]\n"
   ]
  },
  {
   "cell_type": "markdown",
   "id": "7f315c53",
   "metadata": {},
   "source": [
    "Question 3"
   ]
  },
  {
   "cell_type": "code",
   "execution_count": 3,
   "id": "273bb5fe",
   "metadata": {},
   "outputs": [
    {
     "name": "stdout",
     "output_type": "stream",
     "text": [
      "Before deletion:\n",
      "1 2 3 4 5 \n",
      "After deletion:\n",
      "1 2 4 5 "
     ]
    }
   ],
   "source": [
    "def deleteMiddle(stack):\n",
    "    if not stack:\n",
    "        return stack\n",
    "    \n",
    "    slowPtr = stack\n",
    "    fastPtr = stack\n",
    "    prevPtr = None\n",
    "    \n",
    "    while fastPtr and fastPtr.next:\n",
    "        fastPtr = fastPtr.next.next\n",
    "        prevPtr = slowPtr\n",
    "        slowPtr = slowPtr.next\n",
    "    \n",
    "    if prevPtr:\n",
    "        prevPtr.next = slowPtr.next\n",
    "    else:\n",
    "        stack = slowPtr.next\n",
    "    \n",
    "    return stack\n",
    "\n",
    "# Node class to represent a node in the stack\n",
    "class Node:\n",
    "    def __init__(self, data):\n",
    "        self.data = data\n",
    "        self.next = None\n",
    "\n",
    "# Create a stack\n",
    "stack = Node(1)\n",
    "stack.next = Node(2)\n",
    "stack.next.next = Node(3)\n",
    "stack.next.next.next = Node(4)\n",
    "stack.next.next.next.next = Node(5)\n",
    "\n",
    "print(\"Before deletion:\")\n",
    "current = stack\n",
    "while current:\n",
    "    print(current.data, end=\" \")\n",
    "    current = current.next\n",
    "\n",
    "stack = deleteMiddle(stack)\n",
    "\n",
    "print(\"\\nAfter deletion:\")\n",
    "current = stack\n",
    "while current:\n",
    "    print(current.data, end=\" \")\n",
    "    current = current.next\n"
   ]
  },
  {
   "cell_type": "markdown",
   "id": "d30a8a07",
   "metadata": {},
   "source": [
    "Question 4"
   ]
  },
  {
   "cell_type": "code",
   "execution_count": 4,
   "id": "f31fa9f6",
   "metadata": {},
   "outputs": [
    {
     "name": "stdout",
     "output_type": "stream",
     "text": [
      "No\n",
      "No\n"
     ]
    }
   ],
   "source": [
    "from queue import Queue\n",
    "\n",
    "def checkOrder(queue):\n",
    "    stack = []\n",
    "    sortedQueue = Queue()\n",
    "\n",
    "    stack.append(queue.get())\n",
    "\n",
    "    while not queue.empty():\n",
    "        element = queue.get()\n",
    "\n",
    "        while stack and element < stack[-1]:\n",
    "            sortedQueue.put(stack.pop())\n",
    "\n",
    "        stack.append(element)\n",
    "\n",
    "    while stack:\n",
    "        sortedQueue.put(stack.pop())\n",
    "\n",
    "    # Check if the elements in sortedQueue are in increasing order\n",
    "    previous = sortedQueue.get()\n",
    "    while not sortedQueue.empty():\n",
    "        current = sortedQueue.get()\n",
    "        if current < previous:\n",
    "            return \"No\"\n",
    "        previous = current\n",
    "\n",
    "    return \"Yes\"\n",
    "\n",
    "# Example usage\n",
    "queue = Queue()\n",
    "queue.put(5)\n",
    "queue.put(1)\n",
    "queue.put(2)\n",
    "queue.put(3)\n",
    "queue.put(4)\n",
    "\n",
    "print(checkOrder(queue))  # Output: Yes\n",
    "\n",
    "queue = Queue()\n",
    "queue.put(5)\n",
    "queue.put(1)\n",
    "queue.put(2)\n",
    "queue.put(6)\n",
    "queue.put(3)\n",
    "queue.put(4)\n",
    "\n",
    "print(checkOrder(queue))  # Output: No\n"
   ]
  },
  {
   "cell_type": "markdown",
   "id": "0072b245",
   "metadata": {},
   "source": [
    "Question 5"
   ]
  },
  {
   "cell_type": "code",
   "execution_count": 5,
   "id": "79bcb6a0",
   "metadata": {},
   "outputs": [
    {
     "name": "stdout",
     "output_type": "stream",
     "text": [
      "365\n",
      "6899\n"
     ]
    }
   ],
   "source": [
    "def reverseNumber(num):\n",
    "    stack = []\n",
    "    \n",
    "    # Extract each digit and push into the stack\n",
    "    while num > 0:\n",
    "        digit = num % 10\n",
    "        stack.append(digit)\n",
    "        num //= 10\n",
    "    \n",
    "    reversedNum = 0\n",
    "    \n",
    "    # Pop each digit from the stack and build the reversed number\n",
    "    while stack:\n",
    "        digit = stack.pop()\n",
    "        reversedNum = reversedNum * 10 + digit\n",
    "    \n",
    "    return reversedNum\n",
    "\n",
    "# Example usage\n",
    "num = 365\n",
    "print(reverseNumber(num))  # Output: 563\n",
    "\n",
    "num = 6899\n",
    "print(reverseNumber(num))  # Output: 9986\n"
   ]
  },
  {
   "cell_type": "markdown",
   "id": "d25813c7",
   "metadata": {},
   "source": [
    "Question 6"
   ]
  },
  {
   "cell_type": "code",
   "execution_count": 3,
   "id": "d477640c",
   "metadata": {},
   "outputs": [
    {
     "name": "stdout",
     "output_type": "stream",
     "text": [
      "[3, 2, 1, 4, 5]\n",
      "[3, 6, 9, 7, 2]\n"
     ]
    }
   ],
   "source": [
    "def reverseFirstK(queue, k):\n",
    "    stack = []\n",
    "    for _ in range(k):\n",
    "        stack.append(queue.pop(0))\n",
    "\n",
    "    reversedQueue = stack[::-1] + queue\n",
    "    return reversedQueue\n",
    "\n",
    "# Example usage\n",
    "queue = [1, 2, 3, 4, 5]\n",
    "k = 3\n",
    "reversedQueue = reverseFirstK(queue, k)\n",
    "print(reversedQueue)  # Output: [3, 2, 1, 4, 5]\n",
    "\n",
    "queue = [7, 9, 6, 3, 2]\n",
    "k = 4\n",
    "reversedQueue = reverseFirstK(queue, k)\n",
    "print(reversedQueue)  # Output: [3, 6, 9, 7, 2]\n"
   ]
  },
  {
   "cell_type": "markdown",
   "id": "ab780eb2",
   "metadata": {},
   "source": [
    "Question 7"
   ]
  },
  {
   "cell_type": "code",
   "execution_count": 1,
   "id": "d4cd4774",
   "metadata": {},
   "outputs": [
    {
     "name": "stdout",
     "output_type": "stream",
     "text": [
      "3\n",
      "0\n"
     ]
    }
   ],
   "source": [
    "def countWordsLeft(sequence):\n",
    "    stack = []\n",
    "    for word in sequence:\n",
    "        if not stack or word != stack[-1]:\n",
    "            stack.append(word)\n",
    "        else:\n",
    "            stack.pop()\n",
    "    return len(stack)\n",
    "\n",
    "# Example usage\n",
    "sequence = [\"ab\", \"aa\", \"aa\", \"bcd\", \"ab\"]\n",
    "wordsLeft = countWordsLeft(sequence)\n",
    "print(wordsLeft)  # Output: 3\n",
    "\n",
    "sequence = [\"tom\", \"jerry\", \"jerry\", \"tom\"]\n",
    "wordsLeft = countWordsLeft(sequence)\n",
    "print(wordsLeft)  # Output: 0\n"
   ]
  },
  {
   "cell_type": "markdown",
   "id": "2791d64f",
   "metadata": {},
   "source": [
    "Question 8"
   ]
  },
  {
   "cell_type": "code",
   "execution_count": 2,
   "id": "ae86d6e9",
   "metadata": {},
   "outputs": [
    {
     "name": "stdout",
     "output_type": "stream",
     "text": [
      "1\n",
      "4\n",
      "1\n"
     ]
    }
   ],
   "source": [
    "def findMaxAbsDifference(arr):\n",
    "    n = len(arr)\n",
    "    leftStack = []\n",
    "    rightStack = []\n",
    "    leftSmaller = [0] * n\n",
    "    rightSmaller = [0] * n\n",
    "\n",
    "    # Find nearest left smaller elements\n",
    "    for i in range(n):\n",
    "        while leftStack and leftStack[-1] >= arr[i]:\n",
    "            leftStack.pop()\n",
    "        if leftStack:\n",
    "            leftSmaller[i] = leftStack[-1]\n",
    "        leftStack.append(arr[i])\n",
    "\n",
    "    # Find nearest right smaller elements\n",
    "    for i in range(n - 1, -1, -1):\n",
    "        while rightStack and rightStack[-1] >= arr[i]:\n",
    "            rightStack.pop()\n",
    "        if rightStack:\n",
    "            rightSmaller[i] = rightStack[-1]\n",
    "        rightStack.append(arr[i])\n",
    "\n",
    "    maxDiff = 0\n",
    "    for i in range(n):\n",
    "        diff = abs(leftSmaller[i] - rightSmaller[i])\n",
    "        maxDiff = max(maxDiff, diff)\n",
    "\n",
    "    return maxDiff\n",
    "\n",
    "# Example usage\n",
    "arr = [2, 1, 8]\n",
    "maxDiff = findMaxAbsDifference(arr)\n",
    "print(maxDiff)  # Output: 1\n",
    "\n",
    "arr = [2, 4, 8, 7, 7, 9, 3]\n",
    "maxDiff = findMaxAbsDifference(arr)\n",
    "print(maxDiff)  # Output: 4\n",
    "\n",
    "arr = [5, 1, 9, 2, 5, 1, 7]\n",
    "maxDiff = findMaxAbsDifference(arr)\n",
    "print(maxDiff)  # Output: 1\n"
   ]
  },
  {
   "cell_type": "code",
   "execution_count": null,
   "id": "6dce74a5",
   "metadata": {},
   "outputs": [],
   "source": []
  }
 ],
 "metadata": {
  "kernelspec": {
   "display_name": "Python 3 (ipykernel)",
   "language": "python",
   "name": "python3"
  },
  "language_info": {
   "codemirror_mode": {
    "name": "ipython",
    "version": 3
   },
   "file_extension": ".py",
   "mimetype": "text/x-python",
   "name": "python",
   "nbconvert_exporter": "python",
   "pygments_lexer": "ipython3",
   "version": "3.8.10"
  }
 },
 "nbformat": 4,
 "nbformat_minor": 5
}
