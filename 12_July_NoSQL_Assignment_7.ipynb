{
 "cells": [
  {
   "cell_type": "markdown",
   "id": "8016db92",
   "metadata": {},
   "source": [
    "1. NoSQL Databases:\n",
    "   a. Write a Python program that connects to a MongoDB database and inserts a new document into a collection named \"students\". The document should include fields such as \"name\", \"age\", and \"grade\". Print a success message after the insertion.\n"
   ]
  },
  {
   "cell_type": "code",
   "execution_count": null,
   "id": "26ccfff5",
   "metadata": {},
   "outputs": [],
   "source": [
    "from pymongo import MongoClient\n",
    "\n",
    "# Connect to MongoDB\n",
    "client = MongoClient(\"mongodb://localhost:27017/\")\n",
    "db = client[\"your_database_name\"]\n",
    "collection = db[\"students\"]\n",
    "\n",
    "# Create a new document\n",
    "document = {\n",
    "    \"name\": \"John\",\n",
    "    \"age\": 20,\n",
    "    \"grade\": \"A\"\n",
    "}\n",
    "\n",
    "# Insert the document into the collection\n",
    "result = collection.insert_one(document)\n",
    "\n",
    "# Print success message\n",
    "if result.inserted_id:\n",
    "    print(\"Document inserted successfully.\")\n"
   ]
  },
  {
   "cell_type": "markdown",
   "id": "bd350c85",
   "metadata": {},
   "source": [
    "b. Python function to connect to Cassandra and insert a record into a table:"
   ]
  },
  {
   "cell_type": "code",
   "execution_count": null,
   "id": "e206c65e",
   "metadata": {},
   "outputs": [],
   "source": [
    "from cassandra.cluster import Cluster\n",
    "from cassandra.auth import PlainTextAuthProvider\n",
    "from cassandra import ConsistencyLevel\n",
    "\n",
    "def insert_product_record(product_id, name, price):\n",
    "    auth_provider = PlainTextAuthProvider(username='your_username', password='your_password')\n",
    "    cluster = Cluster(['host1', 'host2'], port=9042, auth_provider=auth_provider)\n",
    "    session = cluster.connect('your_keyspace_name')\n",
    "\n",
    "    try:\n",
    "        query = \"INSERT INTO products (id, name, price) VALUES (%s, %s, %s)\"\n",
    "        prepared = session.prepare(query)\n",
    "        session.execute(prepared, (product_id, name, price))\n",
    "        print(\"Record inserted successfully.\")\n",
    "    except Exception as e:\n",
    "        print(\"Error occurred during insertion:\", str(e))\n",
    "\n",
    "    session.shutdown()\n",
    "    cluster.shutdown()\n",
    "\n",
    "# Example usage\n",
    "insert_product_record(1, \"Product A\", 9.99)\n"
   ]
  },
  {
   "cell_type": "markdown",
   "id": "5389e6a5",
   "metadata": {},
   "source": [
    "2. Document-oriented NoSQL Databases:\n",
    "a. Python function to fetch books published in the last year from MongoDB:"
   ]
  },
  {
   "cell_type": "code",
   "execution_count": null,
   "id": "82955064",
   "metadata": {},
   "outputs": [],
   "source": [
    "from pymongo import MongoClient\n",
    "from datetime import datetime, timedelta\n",
    "\n",
    "def fetch_recent_books():\n",
    "    client = MongoClient(\"mongodb://localhost:27017/\")\n",
    "    db = client[\"your_database_name\"]\n",
    "    collection = db[\"books\"]\n",
    "\n",
    "    # Get the date one year ago from today\n",
    "    one_year_ago = datetime.now() - timedelta(days=365)\n",
    "\n",
    "    # Query for books published in the last year\n",
    "    query = {\"publication_date\": {\"$gt\": one_year_ago}}\n",
    "    books = collection.find(query)\n",
    "\n",
    "    # Print book titles and authors\n",
    "    for book in books:\n",
    "        print(\"Title:\", book[\"title\"])\n",
    "        print(\"Author:\", book[\"author\"])\n",
    "        print()\n",
    "\n",
    "# Example usage\n",
    "fetch_recent_books()\n"
   ]
  },
  {
   "cell_type": "markdown",
   "id": "4d2590ca",
   "metadata": {},
   "source": [
    "b. Python program to insert a new customer document into a document-oriented NoSQL database:"
   ]
  },
  {
   "cell_type": "code",
   "execution_count": null,
   "id": "e7ea6963",
   "metadata": {},
   "outputs": [],
   "source": [
    "from pymongo import MongoClient\n",
    "\n",
    "def insert_customer(customer):\n",
    "    client = MongoClient(\"mongodb://localhost:27017/\")\n",
    "    db = client[\"your_database_name\"]\n",
    "    collection = db[\"customers\"]\n",
    "\n",
    "    # Perform necessary validations on the customer document\n",
    "    if \"name\" not in customer:\n",
    "        print(\"Name is required.\")\n",
    "        return\n",
    "\n",
    "    if \"email\" not in customer:\n",
    "        print(\"Email is required.\")\n",
    "        return\n",
    "\n",
    "    # Insert the customer document into the collection\n",
    "    result = collection.insert_one(customer)\n",
    "\n",
    "    # Print success message\n",
    "    if result.inserted_id:\n",
    "        print(\"Customer inserted successfully.\")\n",
    "\n",
    "# Example usage\n",
    "customer = {\n",
    "    \"name\": \"John Doe\",\n",
    "    \"email\": \"john@example.com\",\n",
    "    \"age\": 30\n",
    "}\n",
    "\n",
    "insert_customer(customer)\n"
   ]
  },
  {
   "cell_type": "markdown",
   "id": "68b420bf",
   "metadata": {},
   "source": [
    "3. High Availability and Fault Tolerance:\n",
    "a. Explanation and Python program to retrieve the status of primary and secondary nodes in a MongoDB replica set:"
   ]
  },
  {
   "cell_type": "code",
   "execution_count": null,
   "id": "9d937fd9",
   "metadata": {},
   "outputs": [],
   "source": [
    "from pymongo import MongoClient\n",
    "\n",
    "def get_replica_set_status():\n",
    "    client = MongoClient(\"mongodb://localhost:27017/\")\n",
    "    admin_db = client.admin\n",
    "\n",
    "    # Retrieve replica set status\n",
    "    status = admin_db.command(\"replSetGetStatus\")\n",
    "\n",
    "    # Print the primary and secondary nodes\n",
    "    print(\"Primary:\", status[\"members\"][0][\"name\"])\n",
    "    print(\"Secondaries:\")\n",
    "    for member in status[\"members\"][1:]:\n",
    "        print(member[\"name\"])\n",
    "\n",
    "# Example usage\n",
    "get_replica_set_status()\n"
   ]
  },
  {
   "cell_type": "markdown",
   "id": "32a9d0cf",
   "metadata": {},
   "source": [
    "b. Description and Python program to fetch the status of nodes in a Cassandra cluster:"
   ]
  },
  {
   "cell_type": "code",
   "execution_count": null,
   "id": "59f0061e",
   "metadata": {},
   "outputs": [],
   "source": [
    "from cassandra.cluster import Cluster\n",
    "from cassandra.auth import PlainTextAuthProvider\n",
    "\n",
    "def get_cluster_status():\n",
    "    auth_provider = PlainTextAuthProvider(username='your_username', password='your_password')\n",
    "    cluster = Cluster(['host1', 'host2'], port=9042, auth_provider=auth_provider)\n",
    "    session = cluster.connect()\n",
    "\n",
    "    # Fetch the status of nodes in the cluster\n",
    "    rows = session.execute(\"SELECT * FROM system.local\")\n",
    "    for row in rows:\n",
    "        print(row)\n",
    "\n",
    "    session.shutdown()\n",
    "    cluster.shutdown()\n",
    "\n",
    "# Example usage\n",
    "get_cluster_status()\n"
   ]
  },
  {
   "cell_type": "markdown",
   "id": "e6a48a7e",
   "metadata": {},
   "source": [
    "4. Sharding in MongoDB:\n",
    "a. Explanation of sharding in MongoDB and Python program to set up sharding and insert documents into a sharded collection:"
   ]
  },
  {
   "cell_type": "code",
   "execution_count": null,
   "id": "189d7b21",
   "metadata": {},
   "outputs": [],
   "source": [
    "from pymongo import MongoClient\n",
    "\n",
    "def setup_sharding():\n",
    "    client = MongoClient(\"mongodb://localhost:27017/\")\n",
    "    admin_db = client.admin\n",
    "\n",
    "    # Enable sharding for the database\n",
    "    admin_db.command(\"enableSharding\", \"your_database_name\")\n",
    "\n",
    "    # Create a sharded collection\n",
    "    db = client[\"your_database_name\"]\n",
    "    collection = db[\"your_collection_name\"]\n",
    "    shard_key = {\"_id\": \"hashed\"}\n",
    "    admin_db.command(\"shardCollection\", f\"your_database_name.your_collection_name\", key=shard_key)\n",
    "\n",
    "    # Insert documents into the sharded collection\n",
    "    documents = [\n",
    "        {\"_id\": 1, \"name\": \"Product A\"},\n",
    "        {\"_id\": 2, \"name\": \"Product B\"},\n",
    "        # ...\n",
    "    ]\n",
    "    collection.insert_many(documents)\n",
    "\n",
    "    print(\"Sharding set up successfully.\")\n",
    "\n",
    "# Example usage\n",
    "setup_sharding()\n",
    "\n"
   ]
  },
  {
   "cell_type": "markdown",
   "id": "53c0192a",
   "metadata": {},
   "source": [
    "b. Design a sharding strategy for a social media application where user data needs to be distributed across multiple shards. Write a Python program to demonstrate how data is distributed and retrieved from the sharded cluster:"
   ]
  },
  {
   "cell_type": "code",
   "execution_count": null,
   "id": "c589852f",
   "metadata": {},
   "outputs": [],
   "source": [
    "from pymongo import MongoClient\n",
    "\n",
    "def distribute_data():\n",
    "    client = MongoClient(\"mongodb://localhost:27017/\")\n",
    "    admin_db = client.admin\n",
    "\n",
    "    # Enable sharding for the database\n",
    "    admin_db.command(\"enableSharding\", \"social_media_db\")\n",
    "\n",
    "    # Create a sharded collection with a sharding key\n",
    "    db = client[\"social_media_db\"]\n",
    "    collection = db[\"users\"]\n",
    "    shard_key = {\"_id\": \"hashed\"}\n",
    "    admin_db.command(\"shardCollection\", f\"social_media_db.users\", key=shard_key)\n",
    "\n",
    "    # Insert sample user data\n",
    "    users = [\n",
    "        {\"_id\": 1, \"name\": \"John\", \"age\": 25},\n",
    "        {\"_id\": 2, \"name\": \"Jane\", \"age\": 30},\n",
    "        # ...\n",
    "    ]\n",
    "    collection.insert_many(users)\n",
    "\n",
    "    # Retrieve a user by ID\n",
    "    user_id = 1\n",
    "    user = collection.find_one({\"_id\": user_id})\n",
    "    print(\"Retrieved user:\", user)\n",
    "\n",
    "# Example usage\n",
    "distribute_data()\n"
   ]
  },
  {
   "cell_type": "markdown",
   "id": "d3925c5a",
   "metadata": {},
   "source": [
    "5. Indexing in MongoDB:\n",
    "a. Description of indexing in MongoDB and its importance in query optimization. Python program to create an index on a specific field in a MongoDB collection and execute a query using that index:"
   ]
  },
  {
   "cell_type": "code",
   "execution_count": null,
   "id": "855f9ce5",
   "metadata": {},
   "outputs": [],
   "source": [
    "from pymongo import MongoClient\n",
    "\n",
    "def create_index_and_query():\n",
    "    client = MongoClient(\"mongodb://localhost:27017/\")\n",
    "    db = client[\"your_database_name\"]\n",
    "    collection = db[\"your_collection_name\"]\n",
    "\n",
    "    # Create an index on the \"name\" field\n",
    "    collection.create_index(\"name\")\n",
    "\n",
    "    # Execute a query using the index\n",
    "    query = {\"name\": \"Product A\"}\n",
    "    result = collection.find(query)\n",
    "\n",
    "    # Print the query results\n",
    "    for doc in result:\n",
    "        print(doc)\n",
    "\n",
    "# Example usage\n",
    "create_index_and_query()\n"
   ]
  },
  {
   "cell_type": "markdown",
   "id": "221399ba",
   "metadata": {},
   "source": [
    "b. Python function to search for products with a specific keyword in the name or description, optimizing the query by adding appropriate indexes:"
   ]
  },
  {
   "cell_type": "code",
   "execution_count": null,
   "id": "fbb5b548",
   "metadata": {},
   "outputs": [],
   "source": [
    "from pymongo import MongoClient\n",
    "\n",
    "def search_products(keyword):\n",
    "    client = MongoClient(\"mongodb://localhost:27017/\")\n",
    "    db = client[\"your_database_name\"]\n",
    "    collection = db[\"products\"]\n",
    "\n",
    "    # Create indexes on the \"name\" and \"description\" fields\n",
    "    collection.create_index(\"name\")\n",
    "    collection.create_index(\"description\")\n",
    "\n",
    "    # Execute the query using indexes\n",
    "    query = {\"$or\": [\n",
    "        {\"name\": {\"$regex\": keyword, \"$options\": \"i\"}},\n",
    "        {\"description\": {\"$regex\": keyword, \"$options\": \"i\"}}\n",
    "    ]}\n",
    "    result = collection.find(query)\n",
    "\n",
    "    # Print the query results\n",
    "    for product in result:\n",
    "        print(product)\n",
    "\n",
    "# Example usage\n",
    "search_products(\"keyword\")\n"
   ]
  }
 ],
 "metadata": {
  "kernelspec": {
   "display_name": "Python 3 (ipykernel)",
   "language": "python",
   "name": "python3"
  },
  "language_info": {
   "codemirror_mode": {
    "name": "ipython",
    "version": 3
   },
   "file_extension": ".py",
   "mimetype": "text/x-python",
   "name": "python",
   "nbconvert_exporter": "python",
   "pygments_lexer": "ipython3",
   "version": "3.11.4"
  }
 },
 "nbformat": 4,
 "nbformat_minor": 5
}
