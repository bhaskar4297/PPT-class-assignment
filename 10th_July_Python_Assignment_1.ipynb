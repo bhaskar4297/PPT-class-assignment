{
 "cells": [
  {
   "cell_type": "markdown",
   "id": "ab6637d5",
   "metadata": {},
   "source": [
    "1. Write a Python program to check if a given string is an anagram."
   ]
  },
  {
   "cell_type": "code",
   "execution_count": 1,
   "id": "83c0358a",
   "metadata": {},
   "outputs": [
    {
     "name": "stdout",
     "output_type": "stream",
     "text": [
      "listen and silent are anagrams.\n"
     ]
    }
   ],
   "source": [
    "def is_anagram(str1, str2):\n",
    "    if len(str1) != len(str2):\n",
    "        return False\n",
    "    count = {}\n",
    "    for char in str1:\n",
    "        count[char] = count.get(char, 0) + 1\n",
    "    for char in str2:\n",
    "        if char not in count or count[char] == 0:\n",
    "            return False\n",
    "        count[char] -= 1\n",
    "    return True\n",
    "\n",
    "# Example usage\n",
    "string1 = \"listen\"\n",
    "string2 = \"silent\"\n",
    "if is_anagram(string1, string2):\n",
    "    print(f\"{string1} and {string2} are anagrams.\")\n",
    "else:\n",
    "    print(f\"{string1} and {string2} are not anagrams.\")\n"
   ]
  },
  {
   "cell_type": "markdown",
   "id": "5ac3e7f3",
   "metadata": {},
   "source": [
    "2. Write a Python program to find the maximum and minimum values in a\n",
    "dictionary."
   ]
  },
  {
   "cell_type": "code",
   "execution_count": 2,
   "id": "7d577c29",
   "metadata": {},
   "outputs": [
    {
     "name": "stdout",
     "output_type": "stream",
     "text": [
      "Minimum value: 2\n",
      "Maximum value: 7\n"
     ]
    }
   ],
   "source": [
    "def get_min_max(dictionary):\n",
    "    if not dictionary:\n",
    "        return None, None\n",
    "    values = dictionary.values()\n",
    "    return min(values), max(values)\n",
    "\n",
    "# Example usage\n",
    "my_dict = {'a': 3, 'b': 7, 'c': 2}\n",
    "min_value, max_value = get_min_max(my_dict)\n",
    "print(f\"Minimum value: {min_value}\")\n",
    "print(f\"Maximum value: {max_value}\")\n"
   ]
  },
  {
   "cell_type": "markdown",
   "id": "626729f3",
   "metadata": {},
   "source": [
    "3. Write a Python program to find the average of a list of numbers."
   ]
  },
  {
   "cell_type": "code",
   "execution_count": 3,
   "id": "1059c0ad",
   "metadata": {},
   "outputs": [
    {
     "name": "stdout",
     "output_type": "stream",
     "text": [
      "Average: 5.2\n"
     ]
    }
   ],
   "source": [
    "def calculate_average(numbers):\n",
    "    if not numbers:\n",
    "        return None\n",
    "    return sum(numbers) / len(numbers)\n",
    "\n",
    "# Example usage\n",
    "num_list = [4, 6, 2, 9, 5]\n",
    "average = calculate_average(num_list)\n",
    "print(f\"Average: {average}\")\n"
   ]
  },
  {
   "cell_type": "markdown",
   "id": "453f3a79",
   "metadata": {},
   "source": [
    "4. Write a Python program to remove all vowels from a string."
   ]
  },
  {
   "cell_type": "code",
   "execution_count": 4,
   "id": "cc61f0b0",
   "metadata": {},
   "outputs": [
    {
     "name": "stdout",
     "output_type": "stream",
     "text": [
      "Hll, Wrld!\n"
     ]
    }
   ],
   "source": [
    "def remove_vowels(string):\n",
    "    vowels = 'aeiouAEIOU'\n",
    "    return ''.join(char for char in string if char not in vowels)\n",
    "\n",
    "# Example usage\n",
    "input_string = \"Hello, World!\"\n",
    "output_string = remove_vowels(input_string)\n",
    "print(output_string)\n"
   ]
  },
  {
   "cell_type": "markdown",
   "id": "d1a6db05",
   "metadata": {},
   "source": [
    "5. Python function to calculate the factorial of a number using recursion."
   ]
  },
  {
   "cell_type": "code",
   "execution_count": 5,
   "id": "8f2376c4",
   "metadata": {},
   "outputs": [
    {
     "name": "stdout",
     "output_type": "stream",
     "text": [
      "The factorial of 5 is: 120\n"
     ]
    }
   ],
   "source": [
    "def factorial(n):\n",
    "    if n == 0:\n",
    "        return 1\n",
    "    return n * factorial(n - 1)\n",
    "\n",
    "# Example usage\n",
    "num = 5\n",
    "result = factorial(num)\n",
    "print(f\"The factorial of {num} is: {result}\")\n"
   ]
  },
  {
   "cell_type": "markdown",
   "id": "047d7ee2",
   "metadata": {},
   "source": [
    "6. Write a Python program to merge two unsorted lists into a single sorted list\n",
    "using the merge sort algorithm."
   ]
  },
  {
   "cell_type": "code",
   "execution_count": 6,
   "id": "50ee98ec",
   "metadata": {},
   "outputs": [
    {
     "name": "stdout",
     "output_type": "stream",
     "text": [
      "[1, 2, 3, 4, 5, 6, 7, 8, 9]\n"
     ]
    }
   ],
   "source": [
    "def merge_sort(arr):\n",
    "    if len(arr) <= 1:\n",
    "        return arr\n",
    "    mid = len(arr) // 2\n",
    "    left = merge_sort(arr[:mid])\n",
    "    right = merge_sort(arr[mid:])\n",
    "    return merge(left, right)\n",
    "\n",
    "def merge(left, right):\n",
    "    merged = []\n",
    "    i = j = 0\n",
    "    while i < len(left) and j < len(right):\n",
    "        if left[i] <= right[j]:\n",
    "            merged.append(left[i])\n",
    "            i += 1\n",
    "        else:\n",
    "            merged.append(right[j])\n",
    "            j += 1\n",
    "    while i < len(left):\n",
    "        merged.append(left[i])\n",
    "        i += 1\n",
    "    while j < len(right):\n",
    "        merged.append(right[j])\n",
    "        j += 1\n",
    "    return merged\n",
    "\n",
    "# Example usage\n",
    "list1 = [5, 2, 8, 1, 9]\n",
    "list2 = [7, 3, 6, 4]\n",
    "merged_list = merge_sort(list1 + list2)\n",
    "print(merged_list)\n"
   ]
  },
  {
   "cell_type": "markdown",
   "id": "fe629fcf",
   "metadata": {},
   "source": [
    "7. Python program to find the GCD (Greatest Common Divisor) of two numbers."
   ]
  },
  {
   "cell_type": "code",
   "execution_count": 7,
   "id": "5f4658b7",
   "metadata": {},
   "outputs": [
    {
     "name": "stdout",
     "output_type": "stream",
     "text": [
      "The GCD of 24 and 36 is: 12\n"
     ]
    }
   ],
   "source": [
    "def gcd(a, b):\n",
    "    while b != 0:\n",
    "        a, b = b, a % b\n",
    "    return a\n",
    "\n",
    "# Example usage\n",
    "num1 = 24\n",
    "num2 = 36\n",
    "result = gcd(num1, num2)\n",
    "print(f\"The GCD of {num1} and {num2} is: {result}\")\n"
   ]
  },
  {
   "cell_type": "markdown",
   "id": "cb992384",
   "metadata": {},
   "source": [
    "8. Python program to find the second-largest element in a list"
   ]
  },
  {
   "cell_type": "code",
   "execution_count": 8,
   "id": "a48b9e8d",
   "metadata": {},
   "outputs": [
    {
     "name": "stdout",
     "output_type": "stream",
     "text": [
      "The second largest element is: 7\n"
     ]
    }
   ],
   "source": [
    "def find_second_largest(numbers):\n",
    "    if len(numbers) < 2:\n",
    "        return None\n",
    "    largest = second_largest = float('-inf')\n",
    "    for num in numbers:\n",
    "        if num > largest:\n",
    "            second_largest = largest\n",
    "            largest = num\n",
    "        elif num > second_largest and num < largest:\n",
    "            second_largest = num\n",
    "    return second_largest\n",
    "\n",
    "# Example usage\n",
    "num_list = [5, 9, 2, 7, 3, 6]\n",
    "second_largest = find_second_largest(num_list)\n",
    "print(f\"The second largest element is: {second_largest}\")\n"
   ]
  },
  {
   "cell_type": "markdown",
   "id": "96bbde76",
   "metadata": {},
   "source": [
    "9. Python program to find the longest common subsequence between two strings using dynamic programming"
   ]
  },
  {
   "cell_type": "code",
   "execution_count": 9,
   "id": "396e1b9e",
   "metadata": {},
   "outputs": [
    {
     "name": "stdout",
     "output_type": "stream",
     "text": [
      "The longest common subsequence is: GTAB\n"
     ]
    }
   ],
   "source": [
    "def longest_common_subsequence(str1, str2):\n",
    "    m, n = len(str1), len(str2)\n",
    "    dp = [[0] * (n + 1) for _ in range(m + 1)]\n",
    "\n",
    "    for i in range(1, m + 1):\n",
    "        for j in range(1, n + 1):\n",
    "            if str1[i - 1] == str2[j - 1]:\n",
    "                dp[i][j] = dp[i - 1][j - 1] + 1\n",
    "            else:\n",
    "                dp[i][j] = max(dp[i - 1][j], dp[i][j - 1])\n",
    "\n",
    "    # Reconstruct the longest common subsequence\n",
    "    lcs = ''\n",
    "    i, j = m, n\n",
    "    while i > 0 and j > 0:\n",
    "        if str1[i - 1] == str2[j - 1]:\n",
    "            lcs = str1[i - 1] + lcs\n",
    "            i -= 1\n",
    "            j -= 1\n",
    "        elif dp[i - 1][j] > dp[i][j - 1]:\n",
    "            i -= 1\n",
    "        else:\n",
    "            j -= 1\n",
    "\n",
    "    return lcs\n",
    "\n",
    "# Example usage\n",
    "string1 = \"AGGTAB\"\n",
    "string2 = \"GXTXAYB\"\n",
    "result = longest_common_subsequence(string1, string2)\n",
    "print(f\"The longest common subsequence is: {result}\")\n"
   ]
  },
  {
   "cell_type": "code",
   "execution_count": null,
   "id": "a813611d",
   "metadata": {},
   "outputs": [],
   "source": []
  }
 ],
 "metadata": {
  "kernelspec": {
   "display_name": "Python 3 (ipykernel)",
   "language": "python",
   "name": "python3"
  },
  "language_info": {
   "codemirror_mode": {
    "name": "ipython",
    "version": 3
   },
   "file_extension": ".py",
   "mimetype": "text/x-python",
   "name": "python",
   "nbconvert_exporter": "python",
   "pygments_lexer": "ipython3",
   "version": "3.11.4"
  }
 },
 "nbformat": 4,
 "nbformat_minor": 5
}
