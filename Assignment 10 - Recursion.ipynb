{
 "cells": [
  {
   "cell_type": "markdown",
   "id": "3d1ac737",
   "metadata": {},
   "source": [
    "Question 1"
   ]
  },
  {
   "cell_type": "code",
   "execution_count": null,
   "id": "70d4e297",
   "metadata": {},
   "outputs": [],
   "source": [
    "#Example 1\n",
    "\n",
    "import math\n",
    "\n",
    "def is_power_of_three(n):\n",
    "    if n <= 0:\n",
    "        return False\n",
    "    else:\n",
    "        x = math.log(n, 3)\n",
    "        return x == int(x)\n",
    "    print(is_power_of_three(27))"
   ]
  },
  {
   "cell_type": "code",
   "execution_count": null,
   "id": "3df8502f",
   "metadata": {},
   "outputs": [],
   "source": [
    "#Example 2\n",
    "\n",
    "import math\n",
    "\n",
    "def is_power_of_three(n):\n",
    "    if n <= 0:\n",
    "        return False\n",
    "    else:\n",
    "        x = math.log(n, 3)\n",
    "        return abs(x - round(x)) < 1e-10\n",
    "print(is_power_of_three(0))"
   ]
  },
  {
   "cell_type": "code",
   "execution_count": null,
   "id": "a8e3f097",
   "metadata": {},
   "outputs": [],
   "source": [
    "#Example 3\n",
    "\n",
    "import math\n",
    "\n",
    "def is_power_of_three(n):\n",
    "    if n <= 0:\n",
    "        return False\n",
    "    else:\n",
    "        x = math.log(n, 3)\n",
    "        return abs(x - round(x)) < 1e-10\n",
    "print(is_power_of_three(-1))"
   ]
  },
  {
   "cell_type": "markdown",
   "id": "2f0b0e08",
   "metadata": {},
   "source": [
    "Question 2"
   ]
  },
  {
   "cell_type": "code",
   "execution_count": null,
   "id": "9361d315",
   "metadata": {},
   "outputs": [],
   "source": [
    "#Example 1\n",
    "\n",
    "def last_remaining(n):\n",
    "    arr = list(range(1, n+1))  # Create the initial list [1, 2, 3, ..., n]\n",
    "\n",
    "    left_to_right = True  # Flag to indicate the direction of removal\n",
    "    remaining = n  # Number of remaining elements in the list\n",
    "\n",
    "    step = 1  # Step size for removing numbers\n",
    "\n",
    "    while remaining > 1:\n",
    "        if left_to_right or remaining % 2 == 1:\n",
    "            arr = arr[step::2]  # Remove every other number from left to right\n",
    "        else:\n",
    "            arr = arr[:-step][::-1]  # Remove every other number from right to left\n",
    "\n",
    "        remaining = len(arr)\n",
    "        step *= 2  # Double the step size for each iteration\n",
    "        left_to_right = not left_to_right  # Toggle the direction of removal\n",
    "\n",
    "    return arr[0]  # The last remaining number\n",
    "\n",
    "print(last_remaining(9))"
   ]
  },
  {
   "cell_type": "code",
   "execution_count": null,
   "id": "174b45bf",
   "metadata": {},
   "outputs": [],
   "source": [
    "#Example 2\n",
    "\n",
    "def last_remaining(n):\n",
    "    if n == 1:\n",
    "        return 1\n",
    "    \n",
    "    arr = list(range(1, n+1))  # Create the initial list [1, 2, 3, ..., n]\n",
    "    \n",
    "    # Rest of the implementation remains the same\n",
    "    # ...\n",
    "print(last_remaining(1))"
   ]
  },
  {
   "cell_type": "markdown",
   "id": "df766ae0",
   "metadata": {},
   "source": [
    "Question 3"
   ]
  },
  {
   "cell_type": "code",
   "execution_count": null,
   "id": "a2100e13",
   "metadata": {},
   "outputs": [],
   "source": [
    "def print_subsets(set_str, current_set, index):\n",
    "    # Base case: if all elements are processed, print the current subset\n",
    "    if index == len(set_str):\n",
    "        print(''.join(current_set))\n",
    "        return\n",
    "\n",
    "    # Recursive case 1: include the current character in the subset\n",
    "    current_set.append(set_str[index])\n",
    "    print_subsets(set_str, current_set, index + 1)\n",
    "\n",
    "    # Recursive case 2: exclude the current character from the subset\n",
    "    current_set.pop()\n",
    "    print_subsets(set_str, current_set, index + 1)\n",
    "\n",
    "def generate_subsets(set_str):\n",
    "    # Create an empty list to store the subsets\n",
    "    subsets = []\n",
    "\n",
    "    # Call the recursive function to print subsets\n",
    "    print_subsets(set_str, [], 0)\n",
    "\n",
    "# Example usage:\n",
    "set_str = \"abc\"\n",
    "generate_subsets(set_str)\n"
   ]
  },
  {
   "cell_type": "markdown",
   "id": "5f459493",
   "metadata": {},
   "source": [
    "Question 4"
   ]
  },
  {
   "cell_type": "code",
   "execution_count": null,
   "id": "653d5436",
   "metadata": {},
   "outputs": [],
   "source": [
    "def calculate_length(string):\n",
    "    # Base case: if the string is empty, return 0\n",
    "    if string == \"\":\n",
    "        return 0\n",
    "    \n",
    "    # Recursive case: return 1 plus the length of the string without the first character\n",
    "    return 1 + calculate_length(string[1:])\n",
    "\n",
    "# Example usage:\n",
    "string = \"Hello, World!\"\n",
    "length = calculate_length(string)\n",
    "print(\"Length of the string:\", length)\n"
   ]
  },
  {
   "cell_type": "markdown",
   "id": "728d325c",
   "metadata": {},
   "source": [
    "Question 5"
   ]
  },
  {
   "cell_type": "code",
   "execution_count": null,
   "id": "425733c2",
   "metadata": {},
   "outputs": [],
   "source": [
    "def count_contiguous_substrings(string):\n",
    "    count = 0\n",
    "\n",
    "    # Iterate through each character in the string\n",
    "    for i in range(len(string)):\n",
    "        # Check if the current character is the same as the last character of a substring\n",
    "        if string[i] == string[i - 1]:\n",
    "            # Increment the count by the length of the substring\n",
    "            count += i\n",
    "\n",
    "    return count\n",
    "\n",
    "# Example usage:\n",
    "string = \"abcab\"\n",
    "count = count_contiguous_substrings(string)\n",
    "print(\"Count of contiguous substrings:\", count)\n"
   ]
  },
  {
   "cell_type": "markdown",
   "id": "9771be22",
   "metadata": {},
   "source": [
    "Question 6"
   ]
  },
  {
   "cell_type": "code",
   "execution_count": null,
   "id": "4dd7036f",
   "metadata": {},
   "outputs": [],
   "source": [
    "#Example 1\n",
    "\n",
    "def tower_of_hanoi(n, source, destination, auxiliary):\n",
    "    if n == 1:\n",
    "        # Base case: If there is only one disk, move it from source to destination\n",
    "        print(\"Move disk 1 from rod\", source, \"to rod\", destination)\n",
    "        return 1\n",
    "\n",
    "    # Recursive case:\n",
    "    # Move n-1 disks from source to auxiliary rod\n",
    "    count1 = tower_of_hanoi(n - 1, source, auxiliary, destination)\n",
    "\n",
    "    # Move the remaining largest disk from source to destination rod\n",
    "    print(\"Move disk\", n, \"from rod\", source, \"to rod\", destination)\n",
    "\n",
    "    # Move the n-1 disks from auxiliary rod to destination rod\n",
    "    count2 = tower_of_hanoi(n - 1, auxiliary, destination, source)\n",
    "\n",
    "    # Return the total moves\n",
    "    return count1 + 1 + count2\n",
    "\n",
    "# Example usage:\n",
    "N = 2\n",
    "total_moves = tower_of_hanoi(N, 1, 3, 2)\n",
    "print(\"Total moves:\", total_moves)"
   ]
  },
  {
   "cell_type": "code",
   "execution_count": null,
   "id": "47a93cb0",
   "metadata": {},
   "outputs": [],
   "source": [
    "#Example 2\n",
    "\n",
    "def tower_of_hanoi(n, source, destination, auxiliary):\n",
    "    if n == 1:\n",
    "        # Base case: If there is only one disk, move it from source to destination\n",
    "        print(\"Move disk 1 from rod\", source, \"to rod\", destination)\n",
    "        return 1\n",
    "\n",
    "    # Recursive case:\n",
    "    # Move n-1 disks from source to auxiliary rod\n",
    "    count1 = tower_of_hanoi(n - 1, source, auxiliary, destination)\n",
    "\n",
    "    # Move the remaining largest disk from source to destination rod\n",
    "    print(\"Move disk\", n, \"from rod\", source, \"to rod\", destination)\n",
    "\n",
    "    # Move the n-1 disks from auxiliary rod to destination rod\n",
    "    count2 = tower_of_hanoi(n - 1, auxiliary, destination, source)\n",
    "\n",
    "    # Return the total moves\n",
    "    return count1 + 1 + count2\n",
    "\n",
    "# Example usage:\n",
    "N = 3\n",
    "total_moves = tower_of_hanoi(N, 1, 3, 2)\n",
    "print(\"Total moves:\", total_moves)"
   ]
  },
  {
   "cell_type": "markdown",
   "id": "d406f428",
   "metadata": {},
   "source": [
    "Question 7"
   ]
  },
  {
   "cell_type": "code",
   "execution_count": 1,
   "id": "c7a08462",
   "metadata": {},
   "outputs": [
    {
     "name": "stdout",
     "output_type": "stream",
     "text": [
      "cd\n",
      "dc\n",
      "abb\n",
      "abb\n",
      "bab\n",
      "bba\n",
      "bba\n",
      "bab\n"
     ]
    }
   ],
   "source": [
    "def permute_string(str):\n",
    "    # Convert the string to a list of characters for easier manipulation\n",
    "    chars = list(str)\n",
    "    \n",
    "    # Helper function to generate permutations recursively\n",
    "    def backtrack(start):\n",
    "        # If we have reached the end of the string, we have found a permutation\n",
    "        if start == len(chars) - 1:\n",
    "            print(\"\".join(chars))\n",
    "            return\n",
    "        \n",
    "        # Loop through the remaining characters and swap the current character with each of them\n",
    "        for i in range(start, len(chars)):\n",
    "            chars[start], chars[i] = chars[i], chars[start]  # Swap\n",
    "            backtrack(start + 1)  # Generate permutations for the remaining characters\n",
    "            chars[start], chars[i] = chars[i], chars[start]  # Revert the swap\n",
    "        \n",
    "    # Call the helper function with the starting index 0\n",
    "    backtrack(0)\n",
    "permute_string(\"cd\")\n",
    "permute_string(\"abb\")\n"
   ]
  },
  {
   "cell_type": "markdown",
   "id": "128d5ea3",
   "metadata": {},
   "source": [
    "Question 8"
   ]
  },
  {
   "cell_type": "code",
   "execution_count": null,
   "id": "b1e647f4",
   "metadata": {},
   "outputs": [],
   "source": [
    "def count_consonants(string):\n",
    "    vowels = {'a', 'e', 'i', 'o', 'u'}  # Set of vowels\n",
    "    \n",
    "    count = 0  # Counter for consonants\n",
    "    \n",
    "    for char in string:\n",
    "        if char.isalpha() and char.lower() not in vowels:\n",
    "            count += 1\n",
    "    \n",
    "    return count\n",
    "print(count_consonants(\"abc de\"))\n",
    "print(count_consonants(\"geeksforgeeks portal\"))"
   ]
  }
 ],
 "metadata": {
  "kernelspec": {
   "display_name": "Python 3 (ipykernel)",
   "language": "python",
   "name": "python3"
  },
  "language_info": {
   "codemirror_mode": {
    "name": "ipython",
    "version": 3
   },
   "file_extension": ".py",
   "mimetype": "text/x-python",
   "name": "python",
   "nbconvert_exporter": "python",
   "pygments_lexer": "ipython3",
   "version": "3.10.8"
  }
 },
 "nbformat": 4,
 "nbformat_minor": 5
}
