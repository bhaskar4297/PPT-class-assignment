{
 "cells": [
  {
   "cell_type": "markdown",
   "id": "f058a54b",
   "metadata": {},
   "source": [
    "# Assignment Questions 14"
   ]
  },
  {
   "cell_type": "markdown",
   "id": "e931324d",
   "metadata": {},
   "source": [
    "https://pwskills.notion.site/Assignment-Questions-14-f6f7d67e91f548fd892b7c02e7a4d0d5"
   ]
  },
  {
   "cell_type": "markdown",
   "id": "159df266",
   "metadata": {},
   "source": [
    "Question 1"
   ]
  },
  {
   "cell_type": "code",
   "execution_count": 1,
   "id": "c9ce0f74",
   "metadata": {},
   "outputs": [
    {
     "name": "stdout",
     "output_type": "stream",
     "text": [
      "1 3 4 2 5 6 \n"
     ]
    }
   ],
   "source": [
    "class Node:\n",
    "    def __init__(self, data=None):\n",
    "        self.data = data\n",
    "        self.next = None\n",
    "\n",
    "def detectAndRemoveLoop(head):\n",
    "    slow = head\n",
    "    fast = head\n",
    "\n",
    "    # Move slow and fast pointers until they meet or reach the end of the list\n",
    "    while fast and fast.next:\n",
    "        slow = slow.next\n",
    "        fast = fast.next.next\n",
    "        if slow == fast:\n",
    "            break\n",
    "\n",
    "    # If fast pointer reached the end, there is no loop in the list\n",
    "    if fast is None or fast.next is None:\n",
    "        return head\n",
    "\n",
    "    # Reset slow pointer to the head and move both pointers by one step until they meet again\n",
    "    slow = head\n",
    "    while slow.next != fast.next:\n",
    "        slow = slow.next\n",
    "        fast = fast.next\n",
    "\n",
    "    # Break the loop by setting the next pointer of the node where slow and fast pointers meet to None\n",
    "    fast.next = None\n",
    "\n",
    "    return head\n",
    "\n",
    "# Create the linked list: 1 -> 3 -> 4 -> 2 -> 5 -> 6\n",
    "head = Node(1)\n",
    "node2 = Node(3)\n",
    "node3 = Node(4)\n",
    "node4 = Node(2)\n",
    "node5 = Node(5)\n",
    "node6 = Node(6)\n",
    "head.next = node2\n",
    "node2.next = node3\n",
    "node3.next = node4\n",
    "node4.next = node5\n",
    "node5.next = node6\n",
    "node6.next = node3  # Creating a loop by connecting the last node to node at position X=2\n",
    "\n",
    "# Detect and remove the loop in the linked list\n",
    "new_head = detectAndRemoveLoop(head)\n",
    "\n",
    "# Print the updated list (without the loop)\n",
    "current = new_head\n",
    "while current:\n",
    "    print(current.data, end=\" \")\n",
    "    current = current.next\n",
    "print()\n"
   ]
  },
  {
   "cell_type": "markdown",
   "id": "8a965b1c",
   "metadata": {},
   "source": [
    "Question 2"
   ]
  },
  {
   "cell_type": "code",
   "execution_count": 3,
   "id": "37a1a851",
   "metadata": {},
   "outputs": [
    {
     "name": "stdout",
     "output_type": "stream",
     "text": [
      "4 5 7 \n"
     ]
    }
   ],
   "source": [
    "class Node:\n",
    "    def __init__(self, data=None):\n",
    "        self.data = data\n",
    "        self.next = None\n",
    "\n",
    "def addOne(head):\n",
    "    # Reverse the linked list\n",
    "    prev = None\n",
    "    current = head\n",
    "    while current:\n",
    "        next_node = current.next\n",
    "        current.next = prev\n",
    "        prev = current\n",
    "        current = next_node\n",
    "    head = prev\n",
    "\n",
    "    # Add 1 to the first digit and propagate carry if needed\n",
    "    current = head\n",
    "    carry = 1\n",
    "    while current and carry > 0:\n",
    "        sum = current.data + carry\n",
    "        current.data = sum % 10\n",
    "        carry = sum // 10\n",
    "        current = current.next\n",
    "\n",
    "    # Reverse the linked list again\n",
    "    prev = None\n",
    "    current = head\n",
    "    while current:\n",
    "        next_node = current.next\n",
    "        current.next = prev\n",
    "        prev = current\n",
    "        current = next_node\n",
    "    head = prev\n",
    "\n",
    "    return head\n",
    "\n",
    "# Create the linked list: 4 -> 5 -> 6\n",
    "head = Node(4)\n",
    "node2 = Node(5)\n",
    "node3 = Node(6)\n",
    "head.next = node2\n",
    "node2.next = node3\n",
    "\n",
    "# Add 1 to the number represented by the linked list\n",
    "new_head = addOne(head)\n",
    "\n",
    "# Print the updated linked list\n",
    "current = new_head\n",
    "while current:\n",
    "    print(current.data, end=\" \")\n",
    "    current = current.next\n",
    "print()\n"
   ]
  },
  {
   "cell_type": "markdown",
   "id": "3e7407c2",
   "metadata": {},
   "source": [
    "Question 3"
   ]
  },
  {
   "cell_type": "code",
   "execution_count": 4,
   "id": "48fabec1",
   "metadata": {},
   "outputs": [
    {
     "name": "stdout",
     "output_type": "stream",
     "text": [
      "5-> 7-> 8-> 10-> 19-> 20-> 22-> 28-> 30-> 35-> None\n"
     ]
    }
   ],
   "source": [
    "class Node:\n",
    "    def __init__(self, data=None):\n",
    "        self.data = data\n",
    "        self.next = None\n",
    "        self.bottom = None\n",
    "\n",
    "def merge(a, b):\n",
    "    if not a:\n",
    "        return b\n",
    "    if not b:\n",
    "        return a\n",
    "    \n",
    "    result = None\n",
    "    if a.data <= b.data:\n",
    "        result = a\n",
    "        result.bottom = merge(a.bottom, b)\n",
    "    else:\n",
    "        result = b\n",
    "        result.bottom = merge(a, b.bottom)\n",
    "    \n",
    "    result.next = None\n",
    "    return result\n",
    "\n",
    "def flatten(head):\n",
    "    if not head or not head.next:\n",
    "        return head\n",
    "    \n",
    "    head.next = flatten(head.next)\n",
    "    \n",
    "    head = merge(head, head.next)\n",
    "    \n",
    "    return head\n",
    "\n",
    "# Create the linked list of sub-linked lists\n",
    "head = Node(5)\n",
    "head.next = Node(10)\n",
    "head.next.next = Node(19)\n",
    "head.next.next.next = Node(28)\n",
    "\n",
    "head.bottom = Node(7)\n",
    "head.bottom.bottom = Node(8)\n",
    "head.bottom.bottom.bottom = Node(30)\n",
    "\n",
    "head.next.bottom = Node(20)\n",
    "\n",
    "head.next.next.bottom = Node(22)\n",
    "head.next.next.next.bottom = Node(35)\n",
    "\n",
    "head.bottom.next = Node(50)\n",
    "\n",
    "head.next.next.bottom.next = Node(40)\n",
    "head.next.next.bottom.next.bottom = Node(45)\n",
    "\n",
    "# Flatten the linked list\n",
    "flattened_head = flatten(head)\n",
    "\n",
    "# Print the flattened list\n",
    "current = flattened_head\n",
    "while current:\n",
    "    print(current.data, end=\"-> \")\n",
    "    current = current.bottom\n",
    "print(\"None\")\n"
   ]
  },
  {
   "cell_type": "markdown",
   "id": "a86fb580",
   "metadata": {},
   "source": [
    "Question 4"
   ]
  },
  {
   "cell_type": "code",
   "execution_count": 5,
   "id": "f35c562f",
   "metadata": {},
   "outputs": [
    {
     "name": "stdout",
     "output_type": "stream",
     "text": [
      "Value: 1 Random: 3\n",
      "Value: 2 Random: 4\n",
      "Value: 3 Random: None\n",
      "Value: 4 Random: None\n"
     ]
    }
   ],
   "source": [
    "class Node:\n",
    "    def __init__(self, data=None):\n",
    "        self.data = data\n",
    "        self.next = None\n",
    "        self.random = None\n",
    "\n",
    "def copyRandomList(head):\n",
    "    if not head:\n",
    "        return None\n",
    "    \n",
    "    # Step 1: Create new nodes with the same values\n",
    "    current = head\n",
    "    while current:\n",
    "        new_node = Node(current.data)\n",
    "        new_node.next = current.next\n",
    "        current.next = new_node\n",
    "        current = new_node.next\n",
    "    \n",
    "    # Step 2: Set random pointers of new nodes\n",
    "    current = head\n",
    "    while current:\n",
    "        if current.random:\n",
    "            current.next.random = current.random.next\n",
    "        current = current.next.next\n",
    "    \n",
    "    # Step 3: Separate original and copied lists\n",
    "    current = head\n",
    "    new_head = head.next\n",
    "    while current:\n",
    "        new_node = current.next\n",
    "        current.next = new_node.next\n",
    "        if new_node.next:\n",
    "            new_node.next = new_node.next.next\n",
    "        current = current.next\n",
    "    \n",
    "    return new_head\n",
    "\n",
    "# Create the original linked list with random pointers\n",
    "head = Node(1)\n",
    "head.next = Node(2)\n",
    "head.next.next = Node(3)\n",
    "head.next.next.next = Node(4)\n",
    "\n",
    "head.random = head.next.next\n",
    "head.next.random = head.next.next.next\n",
    "\n",
    "# Copy the linked list\n",
    "copied_head = copyRandomList(head)\n",
    "\n",
    "# Print the copied linked list\n",
    "current = copied_head\n",
    "while current:\n",
    "    print(\"Value:\", current.data, end=\" \")\n",
    "    if current.random:\n",
    "        print(\"Random:\", current.random.data)\n",
    "    else:\n",
    "        print(\"Random: None\")\n",
    "    current = current.next\n"
   ]
  },
  {
   "cell_type": "markdown",
   "id": "c576f4ce",
   "metadata": {},
   "source": [
    "Question 5"
   ]
  },
  {
   "cell_type": "code",
   "execution_count": 6,
   "id": "5e2e57b4",
   "metadata": {},
   "outputs": [
    {
     "name": "stdout",
     "output_type": "stream",
     "text": [
      "1 3 5 2 4 "
     ]
    }
   ],
   "source": [
    "class ListNode:\n",
    "    def __init__(self, val=0, next=None):\n",
    "        self.val = val\n",
    "        self.next = next\n",
    "\n",
    "def oddEvenList(head):\n",
    "    if not head or not head.next:\n",
    "        return head\n",
    "    \n",
    "    odd_head = head\n",
    "    even_head = head.next\n",
    "    odd = odd_head\n",
    "    even = even_head\n",
    "    \n",
    "    while even and even.next:\n",
    "        odd.next = even.next\n",
    "        odd = odd.next\n",
    "        even.next = odd.next\n",
    "        even = even.next\n",
    "    \n",
    "    odd.next = even_head\n",
    "    \n",
    "    return odd_head\n",
    "\n",
    "# Create the linked list [1, 2, 3, 4, 5]\n",
    "head = ListNode(1)\n",
    "head.next = ListNode(2)\n",
    "head.next.next = ListNode(3)\n",
    "head.next.next.next = ListNode(4)\n",
    "head.next.next.next.next = ListNode(5)\n",
    "\n",
    "# Reorder the list\n",
    "reordered_head = oddEvenList(head)\n",
    "\n",
    "# Print the reordered list\n",
    "current = reordered_head\n",
    "while current:\n",
    "    print(current.val, end=\" \")\n",
    "    current = current.next\n"
   ]
  },
  {
   "cell_type": "markdown",
   "id": "26703aac",
   "metadata": {},
   "source": [
    "Question 6"
   ]
  },
  {
   "cell_type": "code",
   "execution_count": 8,
   "id": "a6eeb287",
   "metadata": {},
   "outputs": [
    {
     "name": "stdout",
     "output_type": "stream",
     "text": [
      "8 9 2 "
     ]
    }
   ],
   "source": [
    "class ListNode:\n",
    "    def __init__(self, val=0, next=None):\n",
    "        self.val = val\n",
    "        self.next = next\n",
    "\n",
    "def leftShift(head, k):\n",
    "    if not head or not head.next or k == 0:\n",
    "        return head\n",
    "    \n",
    "    length = 0\n",
    "    current = head\n",
    "    while current:\n",
    "        length += 1\n",
    "        current = current.next\n",
    "    \n",
    "    if k == length or k % length == 0:\n",
    "        return head\n",
    "    \n",
    "    k = k % length\n",
    "    \n",
    "    prev = head\n",
    "    curr = head\n",
    "    for _ in range(k):\n",
    "        curr = curr.next\n",
    "    \n",
    "    new_head = curr\n",
    "    \n",
    "    while curr.next:\n",
    "        curr = curr.next\n",
    "    \n",
    "    curr.next = head\n",
    "    prev.next = None\n",
    "    \n",
    "    return new_head\n",
    "\n",
    "# Create the linked list [2, 4, 7, 8, 9]\n",
    "head = ListNode(2)\n",
    "head.next = ListNode(4)\n",
    "head.next.next = ListNode(7)\n",
    "head.next.next.next = ListNode(8)\n",
    "head.next.next.next.next = ListNode(9)\n",
    "\n",
    "# Left-shift the list by 3 nodes\n",
    "shifted_head = leftShift(head, 3)\n",
    "\n",
    "# Print the shifted list\n",
    "current = shifted_head\n",
    "while current:\n",
    "    print(current.val, end=\" \")\n",
    "    current = current.next\n"
   ]
  },
  {
   "cell_type": "markdown",
   "id": "d7ca002a",
   "metadata": {},
   "source": [
    "Question 6"
   ]
  },
  {
   "cell_type": "code",
   "execution_count": 9,
   "id": "e2c87d45",
   "metadata": {},
   "outputs": [
    {
     "name": "stdout",
     "output_type": "stream",
     "text": [
      "[7, 0, 5, 5, 0]\n"
     ]
    }
   ],
   "source": [
    "class ListNode:\n",
    "    def __init__(self, val=0, next=None):\n",
    "        self.val = val\n",
    "        self.next = next\n",
    "\n",
    "def nextLargerNodes(head):\n",
    "    # Convert the linked list into a list\n",
    "    values = []\n",
    "    current = head\n",
    "    while current:\n",
    "        values.append(current.val)\n",
    "        current = current.next\n",
    "    \n",
    "    stack = []\n",
    "    result = []\n",
    "    \n",
    "    # Iterate over the list in reverse order\n",
    "    for val in reversed(values):\n",
    "        while stack and stack[-1] <= val:\n",
    "            stack.pop()\n",
    "        \n",
    "        if not stack:\n",
    "            result.append(0)\n",
    "        else:\n",
    "            result.append(stack[-1])\n",
    "        \n",
    "        stack.append(val)\n",
    "    \n",
    "    # Reverse the result list\n",
    "    result.reverse()\n",
    "    \n",
    "    return result\n",
    "\n",
    "# Create the linked list [2, 7, 4, 3, 5]\n",
    "head = ListNode(2)\n",
    "head.next = ListNode(7)\n",
    "head.next.next = ListNode(4)\n",
    "head.next.next.next = ListNode(3)\n",
    "head.next.next.next.next = ListNode(5)\n",
    "\n",
    "# Find the next greater node for each node\n",
    "result = nextLargerNodes(head)\n",
    "\n",
    "# Print the result\n",
    "print(result)\n"
   ]
  },
  {
   "cell_type": "markdown",
   "id": "3e91821a",
   "metadata": {},
   "source": [
    "Question 7"
   ]
  },
  {
   "cell_type": "code",
   "execution_count": 12,
   "id": "d12c72af",
   "metadata": {},
   "outputs": [
    {
     "name": "stdout",
     "output_type": "stream",
     "text": [
      "3 1 "
     ]
    }
   ],
   "source": [
    "class ListNode:\n",
    "    def __init__(self, val=0, next=None):\n",
    "        self.val = val\n",
    "        self.next = next\n",
    "\n",
    "def removeZeroSumSublists(head):\n",
    "    # Create a dummy node as the new head\n",
    "    dummy = ListNode(0)\n",
    "    dummy.next = head\n",
    "    \n",
    "    # Initialize prefix sum variables\n",
    "    prefix_sum = 0\n",
    "    prefix_sum_map = {0: dummy}\n",
    "    \n",
    "    current = head\n",
    "    \n",
    "    # Traverse the linked list\n",
    "    while current:\n",
    "        prefix_sum += current.val\n",
    "        \n",
    "        # Check if the prefix sum is already in the map\n",
    "        if prefix_sum in prefix_sum_map:\n",
    "            # Get the node pointer from the map\n",
    "            node_before_sum = prefix_sum_map[prefix_sum]\n",
    "            \n",
    "            # Update the next pointer to skip the nodes in the sequence\n",
    "            node = node_before_sum.next\n",
    "            temp_sum = prefix_sum + node.val\n",
    "            while node != current:\n",
    "                prefix_sum_map.pop(temp_sum)\n",
    "                node = node.next\n",
    "                temp_sum += node.val\n",
    "            node_before_sum.next = current.next\n",
    "        \n",
    "        # Add the prefix sum and node pointer to the map\n",
    "        prefix_sum_map[prefix_sum] = current\n",
    "        \n",
    "        current = current.next\n",
    "    \n",
    "    return dummy.next\n",
    "\n",
    "# Create the linked list [1, 2, -3, 3, 1]\n",
    "head = ListNode(1)\n",
    "head.next = ListNode(2)\n",
    "head.next.next = ListNode(-3)\n",
    "head.next.next.next = ListNode(3)\n",
    "head.next.next.next.next = ListNode(1)\n",
    "\n",
    "# Remove consecutive sequences with sum 0\n",
    "result = removeZeroSumSublists(head)\n",
    "\n",
    "# Print the result\n",
    "while result:\n",
    "    print(result.val, end=' ')\n",
    "    result = result.next\n"
   ]
  },
  {
   "cell_type": "code",
   "execution_count": null,
   "id": "40139938",
   "metadata": {},
   "outputs": [],
   "source": []
  }
 ],
 "metadata": {
  "kernelspec": {
   "display_name": "Python 3 (ipykernel)",
   "language": "python",
   "name": "python3"
  },
  "language_info": {
   "codemirror_mode": {
    "name": "ipython",
    "version": 3
   },
   "file_extension": ".py",
   "mimetype": "text/x-python",
   "name": "python",
   "nbconvert_exporter": "python",
   "pygments_lexer": "ipython3",
   "version": "3.8.10"
  }
 },
 "nbformat": 4,
 "nbformat_minor": 5
}
