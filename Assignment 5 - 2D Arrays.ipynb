{
 "cells": [
  {
   "cell_type": "markdown",
   "id": "3d1ac737",
   "metadata": {},
   "source": [
    "Question 1"
   ]
  },
  {
   "cell_type": "markdown",
   "id": "7dc9b772",
   "metadata": {},
   "source": [
    "i didn't get this question"
   ]
  },
  {
   "cell_type": "markdown",
   "id": "2f0b0e08",
   "metadata": {},
   "source": [
    "Question 2"
   ]
  },
  {
   "cell_type": "markdown",
   "id": "e793cecd",
   "metadata": {},
   "source": [
    "i didn't get this question"
   ]
  },
  {
   "cell_type": "markdown",
   "id": "df766ae0",
   "metadata": {},
   "source": [
    "Question 3"
   ]
  },
  {
   "cell_type": "code",
   "execution_count": null,
   "id": "a2100e13",
   "metadata": {},
   "outputs": [],
   "source": [
    "def sortedSquares(nums):\n",
    "    n = len(nums)\n",
    "    result = [0] * n\n",
    "    left, right = 0, n - 1\n",
    "    \n",
    "    for i in range(n - 1, -1, -1):\n",
    "        if abs(nums[left]) > abs(nums[right]):\n",
    "            result[i] = nums[left] * nums[left]\n",
    "            left += 1\n",
    "        else:\n",
    "            result[i] = nums[right] * nums[right]\n",
    "            right -= 1\n",
    "    \n",
    "    return result\n"
   ]
  },
  {
   "cell_type": "markdown",
   "id": "5f459493",
   "metadata": {},
   "source": [
    "Question 4"
   ]
  },
  {
   "cell_type": "code",
   "execution_count": null,
   "id": "653d5436",
   "metadata": {},
   "outputs": [],
   "source": [
    "def findDisappearedNumbers(nums1, nums2):\n",
    "    set1 = set(nums1)\n",
    "    set2 = set(nums2)\n",
    "    \n",
    "    diff1 = set1 - set2\n",
    "    diff2 = set2 - set1\n",
    "    \n",
    "    answer = [list(diff1), list(diff2)]\n",
    "    return answer\n"
   ]
  },
  {
   "cell_type": "markdown",
   "id": "728d325c",
   "metadata": {},
   "source": [
    "Question 5"
   ]
  },
  {
   "cell_type": "code",
   "execution_count": null,
   "id": "425733c2",
   "metadata": {},
   "outputs": [],
   "source": [
    "def distance_value(arr1, arr2, d):\n",
    "    distance = 0\n",
    "    for num1 in arr1:\n",
    "        for num2 in arr2:\n",
    "            if abs(num1 - num2) <= d:\n",
    "                break\n",
    "        else:\n",
    "            distance += 1\n",
    "    return distance\n",
    "\n",
    "arr1 = [4, 5, 8]\n",
    "arr2 = [10, 9, 1, 8]\n",
    "d = 2\n",
    "\n",
    "print(distance_value(arr1, arr2, d))"
   ]
  },
  {
   "cell_type": "markdown",
   "id": "9771be22",
   "metadata": {},
   "source": [
    "Question 6"
   ]
  },
  {
   "cell_type": "code",
   "execution_count": null,
   "id": "4dd7036f",
   "metadata": {},
   "outputs": [],
   "source": [
    "def findDuplicates(nums):\n",
    "    result = []\n",
    "    for num in nums:\n",
    "        if nums[abs(num) - 1] < 0:\n",
    "            result.append(abs(num))\n",
    "        else:\n",
    "            nums[abs(num) - 1] *= -1\n",
    "    return result\n",
    "nums = [4, 3, 2, 7, 8, 2, 3, 1]\n",
    "print(findDuplicates(nums))"
   ]
  },
  {
   "cell_type": "markdown",
   "id": "d406f428",
   "metadata": {},
   "source": [
    "Question 7"
   ]
  },
  {
   "cell_type": "code",
   "execution_count": null,
   "id": "c7a08462",
   "metadata": {},
   "outputs": [],
   "source": [
    "def findMin(nums):\n",
    "    left = 0\n",
    "    right = len(nums) - 1\n",
    "    \n",
    "    while nums[left] > nums[right]:\n",
    "        mid = left + (right - left) // 2\n",
    "        \n",
    "        if nums[mid] > nums[right]:\n",
    "            left = mid + 1\n",
    "        else:\n",
    "            right = mid\n",
    "    \n",
    "    return nums[left]"
   ]
  },
  {
   "cell_type": "markdown",
   "id": "128d5ea3",
   "metadata": {},
   "source": [
    "Question 8"
   ]
  },
  {
   "cell_type": "code",
   "execution_count": null,
   "id": "b1e647f4",
   "metadata": {},
   "outputs": [],
   "source": [
    "from collections import defaultdict\n",
    "\n",
    "def findOriginalArray(changed):\n",
    "    count = defaultdict(int)\n",
    "    for num in changed:\n",
    "        count[num] += 1\n",
    "    \n",
    "    result = []\n",
    "    for num in changed:\n",
    "        if count[num] == 0:\n",
    "            continue\n",
    "        if count[2*num] == 0:\n",
    "            return []\n",
    "        result.append(num)\n",
    "        count[num] -= 1\n",
    "        count[2*num] -= 1\n",
    "    \n",
    "    return result\n",
    "\n",
    "changed = [1, 3, 4, 2, 6, 8]\n",
    "print(findOriginalArray(changed))"
   ]
  }
 ],
 "metadata": {
  "kernelspec": {
   "display_name": "Python 3 (ipykernel)",
   "language": "python",
   "name": "python3"
  },
  "language_info": {
   "codemirror_mode": {
    "name": "ipython",
    "version": 3
   },
   "file_extension": ".py",
   "mimetype": "text/x-python",
   "name": "python",
   "nbconvert_exporter": "python",
   "pygments_lexer": "ipython3",
   "version": "3.10.8"
  }
 },
 "nbformat": 4,
 "nbformat_minor": 5
}
