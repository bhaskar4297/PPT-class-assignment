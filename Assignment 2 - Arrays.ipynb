{
 "cells": [
  {
   "cell_type": "markdown",
   "id": "21f5e8a6",
   "metadata": {},
   "source": [
    "Question 1"
   ]
  },
  {
   "cell_type": "code",
   "execution_count": 1,
   "id": "3eb7bd2d",
   "metadata": {},
   "outputs": [
    {
     "name": "stdout",
     "output_type": "stream",
     "text": [
      "4\n"
     ]
    }
   ],
   "source": [
    "def arrayPairSum(nums):\n",
    "    nums.sort()  # Sort the array in ascending order\n",
    "    max_sum = 0\n",
    "    \n",
    "    for i in range(0, len(nums), 2):\n",
    "        max_sum += min(nums[i], nums[i+1])\n",
    "    \n",
    "    return max_sum\n",
    "\n",
    "nums = [1, 4, 3, 2]\n",
    "print(arrayPairSum(nums))\n",
    "\n"
   ]
  },
  {
   "cell_type": "markdown",
   "id": "a02ca2b3",
   "metadata": {},
   "source": [
    "Question 2"
   ]
  },
  {
   "cell_type": "code",
   "execution_count": 2,
   "id": "be97984a",
   "metadata": {},
   "outputs": [
    {
     "name": "stdout",
     "output_type": "stream",
     "text": [
      "3\n"
     ]
    }
   ],
   "source": [
    "def maxCandies(candyType):\n",
    "    unique_candies = set()\n",
    "\n",
    "    for candy in candyType:\n",
    "        unique_candies.add(candy)\n",
    "    \n",
    "    return min(len(unique_candies), len(candyType) // 2)\n",
    "\n",
    "candyType = [1, 1, 2, 2, 3, 3]\n",
    "print(maxCandies(candyType))\n"
   ]
  },
  {
   "cell_type": "markdown",
   "id": "688bd356",
   "metadata": {},
   "source": [
    "Question 3"
   ]
  },
  {
   "cell_type": "code",
   "execution_count": null,
   "id": "236fd569",
   "metadata": {},
   "outputs": [],
   "source": [
    "def findLHS(nums):\n",
    "    num_counts = {}\n",
    "    max_length = 0\n",
    "\n",
    "    for num in nums:\n",
    "        num_counts[num] = num_counts.get(num, 0) + 1\n",
    "\n",
    "    for num in num_counts:\n",
    "        if num + 1 in num_counts:\n",
    "            length = num_counts[num] + num_counts[num + 1]\n",
    "            max_length = max(max_length, length)\n",
    "\n",
    "    return max_length\n",
    "\n",
    "nums = [1, 3, 2, 2, 5, 2, 3, 7]\n",
    "print(findLHS(nums))\n"
   ]
  },
  {
   "cell_type": "markdown",
   "id": "6c19637e",
   "metadata": {},
   "source": [
    "Question 4"
   ]
  },
  {
   "cell_type": "code",
   "execution_count": null,
   "id": "c1ba7759",
   "metadata": {},
   "outputs": [],
   "source": [
    "def canPlaceFlowers(flowerbed, n):\n",
    "    count = 0\n",
    "    length = len(flowerbed)\n",
    "    i = 0\n",
    "\n",
    "    while i < length:\n",
    "        if (\n",
    "            flowerbed[i] == 0 and\n",
    "            (i == 0 or flowerbed[i - 1] == 0) and\n",
    "            (i == length - 1 or flowerbed[i + 1] == 0)\n",
    "        ):\n",
    "            count += 1\n",
    "            flowerbed[i] = 1\n",
    "        i += 1\n",
    "\n",
    "    return count >= n\n",
    "\n",
    "flowerbed = [1, 0, 0, 0, 1]\n",
    "n = 1\n",
    "print(canPlaceFlowers(flowerbed, n))\n"
   ]
  },
  {
   "cell_type": "markdown",
   "id": "bdb21409",
   "metadata": {},
   "source": [
    "Question 5"
   ]
  },
  {
   "cell_type": "code",
   "execution_count": null,
   "id": "ee20eed8",
   "metadata": {},
   "outputs": [],
   "source": [
    "def maximumProduct(nums):\n",
    "    nums.sort()\n",
    "    n = len(nums)\n",
    "\n",
    "    product_positive = nums[n - 1] * nums[n - 2] * nums[n - 3]\n",
    "    product_negative = nums[0] * nums[1] * nums[n - 1]\n",
    "\n",
    "    return max(product_positive, product_negative)\n",
    "\n",
    "nums = [1, 2, 3]\n",
    "print(maximumProduct(nums))\n"
   ]
  },
  {
   "cell_type": "markdown",
   "id": "45cfa731",
   "metadata": {},
   "source": [
    "Question 6"
   ]
  },
  {
   "cell_type": "code",
   "execution_count": null,
   "id": "323b1726",
   "metadata": {},
   "outputs": [],
   "source": [
    "def search(nums, target):\n",
    "    left, right = 0, len(nums) - 1\n",
    "\n",
    "    while left <= right:\n",
    "        mid = (left + right) // 2\n",
    "\n",
    "        if nums[mid] == target:\n",
    "            return mid\n",
    "        elif nums[mid] < target:\n",
    "            left = mid + 1\n",
    "        else:\n",
    "            right = mid - 1\n",
    "\n",
    "    return -1\n",
    "\n",
    "nums = [-1, 0, 3, 5, 9, 12]\n",
    "target = 9\n",
    "print(search(nums, target))\n"
   ]
  },
  {
   "cell_type": "markdown",
   "id": "e56c72fe",
   "metadata": {},
   "source": [
    "Question 7"
   ]
  },
  {
   "cell_type": "code",
   "execution_count": null,
   "id": "e69d9ea1",
   "metadata": {},
   "outputs": [],
   "source": [
    "def isMonotonic(nums):\n",
    "    is_increasing = True\n",
    "    is_decreasing = True\n",
    "\n",
    "    for i in range(1, len(nums)):\n",
    "        if nums[i] < nums[i - 1]:\n",
    "            is_increasing = False\n",
    "        if nums[i] > nums[i - 1]:\n",
    "            is_decreasing = False\n",
    "\n",
    "    return is_increasing or is_decreasing\n",
    "\n",
    "nums = [1, 2, 2, 3]\n",
    "print(isMonotonic(nums))\n"
   ]
  },
  {
   "cell_type": "markdown",
   "id": "412793d6",
   "metadata": {},
   "source": [
    "Question 8"
   ]
  },
  {
   "cell_type": "code",
   "execution_count": null,
   "id": "7a276594",
   "metadata": {},
   "outputs": [],
   "source": [
    "def minimumScore(nums, k):\n",
    "    min_val = float('inf')\n",
    "    max_val = float('-inf')\n",
    "\n",
    "    for num in nums:\n",
    "        min_val = min(min_val, num)\n",
    "        max_val = max(max_val, num)\n",
    "\n",
    "    score = max_val - min_val\n",
    "\n",
    "    for num in nums:\n",
    "        new_min = min(num + k, min_val)\n",
    "        new_max = max(num - k, max_val)\n",
    "        new_score = new_max - new_min\n",
    "        score = min(score, new_score)\n",
    "\n",
    "    return score\n",
    "\n",
    "nums = [1]\n",
    "k = 0\n",
    "print(minimumScore(nums, k))\n"
   ]
  }
 ],
 "metadata": {
  "kernelspec": {
   "display_name": "Python 3 (ipykernel)",
   "language": "python",
   "name": "python3"
  },
  "language_info": {
   "codemirror_mode": {
    "name": "ipython",
    "version": 3
   },
   "file_extension": ".py",
   "mimetype": "text/x-python",
   "name": "python",
   "nbconvert_exporter": "python",
   "pygments_lexer": "ipython3",
   "version": "3.10.8"
  }
 },
 "nbformat": 4,
 "nbformat_minor": 5
}
