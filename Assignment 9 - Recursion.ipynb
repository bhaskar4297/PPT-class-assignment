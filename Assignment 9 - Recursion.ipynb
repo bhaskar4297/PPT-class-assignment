{
 "cells": [
  {
   "cell_type": "markdown",
   "id": "3d1ac737",
   "metadata": {},
   "source": [
    "Question 1"
   ]
  },
  {
   "cell_type": "code",
   "execution_count": 1,
   "id": "70d4e297",
   "metadata": {},
   "outputs": [
    {
     "name": "stdout",
     "output_type": "stream",
     "text": [
      "True\n",
      "True\n",
      "False\n"
     ]
    }
   ],
   "source": [
    "def isPowerOfTwo(n):\n",
    "    if n <= 0:\n",
    "        return False\n",
    "\n",
    "    while n % 2 == 0:\n",
    "        n //= 2\n",
    "\n",
    "    return n == 1\n",
    "print(isPowerOfTwo(1))\n",
    "print(isPowerOfTwo(16))\n",
    "print(isPowerOfTwo(3))"
   ]
  },
  {
   "cell_type": "markdown",
   "id": "2f0b0e08",
   "metadata": {},
   "source": [
    "Question 2"
   ]
  },
  {
   "cell_type": "code",
   "execution_count": null,
   "id": "9361d315",
   "metadata": {},
   "outputs": [],
   "source": [
    "sum = (n * (n + 1)) / 2\n",
    "def sumOfNaturalNumbers(n):\n",
    "    return (n * (n + 1)) // 2\n",
    "print(sumOfNaturalNumbers(3))\n",
    "print(sumOfNaturalNumbers(5))"
   ]
  },
  {
   "cell_type": "markdown",
   "id": "df766ae0",
   "metadata": {},
   "source": [
    "Question 3"
   ]
  },
  {
   "cell_type": "code",
   "execution_count": null,
   "id": "a2100e13",
   "metadata": {},
   "outputs": [],
   "source": [
    "def factorial(N):\n",
    "    fact = 1\n",
    "\n",
    "    for i in range(1, N + 1):\n",
    "        fact *= i\n",
    "\n",
    "    return fact\n",
    "print(factorial(5))\n",
    "print(factorial(4))\n"
   ]
  },
  {
   "cell_type": "markdown",
   "id": "5f459493",
   "metadata": {},
   "source": [
    "Question 4"
   ]
  },
  {
   "cell_type": "code",
   "execution_count": null,
   "id": "653d5436",
   "metadata": {},
   "outputs": [],
   "source": [
    "def find_exponent(N, P):\n",
    "    result = N ** P\n",
    "    return result\n",
    "def find_exponent(N, P):\n",
    "    result = 1\n",
    "    for _ in range(P):\n",
    "        result *= N\n",
    "    return result\n"
   ]
  },
  {
   "cell_type": "markdown",
   "id": "728d325c",
   "metadata": {},
   "source": [
    "Question 5"
   ]
  },
  {
   "cell_type": "code",
   "execution_count": null,
   "id": "425733c2",
   "metadata": {},
   "outputs": [],
   "source": [
    "def find_max(arr):\n",
    "    # Base case: if the array has only one element, return that element\n",
    "    if len(arr) == 1:\n",
    "        return arr[0]\n",
    "    \n",
    "    # Recursive case: find the maximum element between the first element and the maximum of the rest of the array\n",
    "    return max(arr[0], find_max(arr[1:]))\n",
    "\n",
    "# Example usage\n",
    "arr = [1, 4, 3, -5, -4, 8, 6]\n",
    "max_element = find_max(arr)\n",
    "print(max_element)\n"
   ]
  },
  {
   "cell_type": "markdown",
   "id": "9771be22",
   "metadata": {},
   "source": [
    "Question 6"
   ]
  },
  {
   "cell_type": "code",
   "execution_count": null,
   "id": "4dd7036f",
   "metadata": {},
   "outputs": [],
   "source": [
    "def find_nth_term(a, d, N):\n",
    "    nth_term = a + (N - 1) * d\n",
    "    return nth_term\n",
    "a = 2\n",
    "d = 1\n",
    "N = 5\n",
    "nth_term = find_nth_term(a, d, N)\n",
    "print(nth_term)\n"
   ]
  },
  {
   "cell_type": "markdown",
   "id": "d406f428",
   "metadata": {},
   "source": [
    "Question 7"
   ]
  },
  {
   "cell_type": "code",
   "execution_count": null,
   "id": "c7a08462",
   "metadata": {},
   "outputs": [],
   "source": [
    "def permute(S):\n",
    "    permutations = []  # List to store the generated permutations\n",
    "\n",
    "    # Helper function to generate permutations\n",
    "    def backtrack(s, start):\n",
    "        if start == len(s):\n",
    "            permutations.append(''.join(s))\n",
    "        else:\n",
    "            for i in range(start, len(s)):\n",
    "                # Swap characters\n",
    "                s[start], s[i] = s[i], s[start]\n",
    "                # Recursively generate permutations for the remaining substring\n",
    "                backtrack(s, start + 1)\n",
    "                # Backtrack: Undo the swap\n",
    "                s[start], s[i] = s[i], s[start]\n",
    "\n",
    "    # Convert the input string to a list of characters\n",
    "    S = list(S)\n",
    "    # Call the helper function to generate permutations\n",
    "    backtrack(S, 0)\n",
    "\n",
    "    return permutations\n",
    "print(permute(\"ABC\"))\n",
    "print(permute(\"XY\"))"
   ]
  },
  {
   "cell_type": "markdown",
   "id": "128d5ea3",
   "metadata": {},
   "source": [
    "Question 8"
   ]
  },
  {
   "cell_type": "code",
   "execution_count": null,
   "id": "b1e647f4",
   "metadata": {},
   "outputs": [],
   "source": [
    "def productOfArray(arr):\n",
    "    product = 1\n",
    "\n",
    "    for num in arr:\n",
    "        product *= num\n",
    "\n",
    "    return product\n",
    "print(productOfArray([1, 2, 3, 4, 5]))\n",
    "print(productOfArray([1, 6, 3]))"
   ]
  }
 ],
 "metadata": {
  "kernelspec": {
   "display_name": "Python 3 (ipykernel)",
   "language": "python",
   "name": "python3"
  },
  "language_info": {
   "codemirror_mode": {
    "name": "ipython",
    "version": 3
   },
   "file_extension": ".py",
   "mimetype": "text/x-python",
   "name": "python",
   "nbconvert_exporter": "python",
   "pygments_lexer": "ipython3",
   "version": "3.10.8"
  }
 },
 "nbformat": 4,
 "nbformat_minor": 5
}
